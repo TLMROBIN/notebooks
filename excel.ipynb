{
 "cells": [
  {
   "cell_type": "code",
   "execution_count": 1,
   "metadata": {},
   "outputs": [
    {
     "name": "stdout",
     "output_type": "stream",
     "text": [
      "e:\\BNUCloud\\work\\git\\Scripts\\shejian\n"
     ]
    }
   ],
   "source": [
    "cd e:/BNUCloud/work/git/Scripts/shejian/"
   ]
  },
  {
   "cell_type": "code",
   "execution_count": 32,
   "metadata": {
    "collapsed": true
   },
   "outputs": [],
   "source": [
    "sheet=open('汇总.csv')"
   ]
  },
  {
   "cell_type": "code",
   "execution_count": 33,
   "metadata": {
    "collapsed": true
   },
   "outputs": [],
   "source": [
    "dates = sheet.readlines()"
   ]
  },
  {
   "cell_type": "code",
   "execution_count": 34,
   "metadata": {
    "scrolled": true
   },
   "outputs": [
    {
     "data": {
      "text/plain": [
       "14"
      ]
     },
     "execution_count": 34,
     "metadata": {},
     "output_type": "execute_result"
    }
   ],
   "source": [
    "len(dates)"
   ]
  },
  {
   "cell_type": "code",
   "execution_count": 35,
   "metadata": {
    "collapsed": true
   },
   "outputs": [],
   "source": [
    "grad=open('研究生名单.csv')\n",
    "grads=grad.readlines()"
   ]
  },
  {
   "cell_type": "code",
   "execution_count": 36,
   "metadata": {},
   "outputs": [
    {
     "data": {
      "text/plain": [
       "74"
      ]
     },
     "execution_count": 36,
     "metadata": {},
     "output_type": "execute_result"
    }
   ],
   "source": [
    "len(grads)"
   ]
  },
  {
   "cell_type": "code",
   "execution_count": 56,
   "metadata": {
    "scrolled": false
   },
   "outputs": [],
   "source": [
    "results=open('results.txt','w')\n",
    "for person in grads:\n",
    "    blank=[]\n",
    "    num=0\n",
    "    information = person.split(',')\n",
    "    name=information[1]\n",
    "    for line in dates:\n",
    "        date=line.split(',')[0]\n",
    "        names=line.split(',')[1:]\n",
    "        if name in names:\n",
    "            blank.append('出席')\n",
    "            num=num+1\n",
    "        else:\n",
    "            blank.append(' ')\n",
    "    results.write(information[0])\n",
    "    results.write(',')\n",
    "    results.write(information[1])\n",
    "    results.write(',')\n",
    "    results.write(information[2])\n",
    "    results.write(',')\n",
    "    results.write(information[3][:7])\n",
    "    results.write(',')\n",
    "    for text in blank:\n",
    "        results.write(text)\n",
    "        results.write(',')\n",
    "    results.write(str(num))\n",
    "    results.write('\\n')\n",
    "results.close()\n",
    "    #,information[1], information[2],information[3][:7],blank,num)"
   ]
  },
  {
   "cell_type": "code",
   "execution_count": 43,
   "metadata": {},
   "outputs": [
    {
     "data": {
      "text/plain": [
       "['201731160011', '张见微', '博士', '[2017]级\\n']"
      ]
     },
     "execution_count": 43,
     "metadata": {},
     "output_type": "execute_result"
    }
   ],
   "source": [
    "information"
   ]
  },
  {
   "cell_type": "code",
   "execution_count": null,
   "metadata": {
    "collapsed": true
   },
   "outputs": [],
   "source": []
  }
 ],
 "metadata": {
  "kernelspec": {
   "display_name": "Python 3",
   "language": "python",
   "name": "python3"
  },
  "language_info": {
   "codemirror_mode": {
    "name": "ipython",
    "version": 3
   },
   "file_extension": ".py",
   "mimetype": "text/x-python",
   "name": "python",
   "nbconvert_exporter": "python",
   "pygments_lexer": "ipython3",
   "version": "3.6.1"
  }
 },
 "nbformat": 4,
 "nbformat_minor": 2
}
