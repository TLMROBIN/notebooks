{
 "cells": [
  {
   "cell_type": "code",
   "execution_count": 1,
   "metadata": {
    "scrolled": false
   },
   "outputs": [
    {
     "name": "stdout",
     "output_type": "stream",
     "text": [
      "/Users/binyu/OneDrive - mail.bnu.edu.cn/work/data\n"
     ]
    }
   ],
   "source": [
    "cd ../../data/"
   ]
  },
  {
   "cell_type": "code",
   "execution_count": 2,
   "metadata": {},
   "outputs": [],
   "source": [
    "from astropy.io import fits\n",
    "from astropy import units as u\n",
    "from astropy.coordinates import SkyCoord\n",
    "import numpy as np"
   ]
  },
  {
   "cell_type": "markdown",
   "metadata": {},
   "source": [
    "1. 读取fits文件信息\n",
    "2. 制定超新星遗迹范围，并截取\n",
    "3. 保存超新星遗迹数据"
   ]
  },
  {
   "cell_type": "code",
   "execution_count": 3,
   "metadata": {},
   "outputs": [],
   "source": [
    "hdulist = fits.open('catwithdis.fit')"
   ]
  },
  {
   "cell_type": "code",
   "execution_count": 4,
   "metadata": {
    "collapsed": true
   },
   "outputs": [
    {
     "data": {
      "text/plain": [
       "ColDefs(\n",
       "    name = 'RA'; format = 'D'\n",
       "    name = 'DEC'; format = 'D'\n",
       "    name = 'J'; format = 'E'\n",
       "    name = 'H'; format = 'E'\n",
       "    name = 'K'; format = 'E'\n",
       "    name = 'EJ'; format = 'E'\n",
       "    name = 'EH'; format = 'E'\n",
       "    name = 'EK'; format = 'E'\n",
       "    name = 'GP'; format = 'E'\n",
       "    name = 'BP'; format = 'E'\n",
       "    name = 'RP'; format = 'E'\n",
       "    name = 'EGP'; format = 'E'\n",
       "    name = 'EBP'; format = 'E'\n",
       "    name = 'ERP'; format = 'E'\n",
       "    name = 'W1'; format = 'E'\n",
       "    name = 'EW1'; format = 'E'\n",
       "    name = 'SSID'; format = '19A'\n",
       "    name = 'PARA'; format = 'E'\n",
       "    name = 'EPARA'; format = 'E'\n",
       "    name = 'REGK'; format = 'D'\n",
       "    name = 'REBR'; format = 'D'\n",
       "    name = 'REHK'; format = 'D'\n",
       "    name = 'DIS'; format = 'E'\n",
       ")"
      ]
     },
     "execution_count": 4,
     "metadata": {},
     "output_type": "execute_result"
    }
   ],
   "source": [
    "cols = hdulist[1].columns\n",
    "cols"
   ]
  },
  {
   "cell_type": "code",
   "execution_count": 4,
   "metadata": {},
   "outputs": [
    {
     "name": "stdout",
     "output_type": "stream",
     "text": [
      "CPU times: user 12.7 ms, sys: 1.82 ms, total: 14.5 ms\n",
      "Wall time: 19.2 ms\n"
     ]
    }
   ],
   "source": [
    "%%time \n",
    "\n",
    "data = hdulist[1].data"
   ]
  },
  {
   "cell_type": "code",
   "execution_count": 17,
   "metadata": {
    "collapsed": true
   },
   "outputs": [
    {
     "data": {
      "text/plain": [
       "XTENSION= 'BINTABLE'           /Binary table written by MWRFITS v1.6a           \n",
       "BITPIX  =                    8 /Required value                                  \n",
       "NAXIS   =                    2 /Required value                                  \n",
       "NAXIS1  =                  127 /Number of bytes per row                         \n",
       "NAXIS2  =             28271752 /Number of rows                                  \n",
       "PCOUNT  =                    0 /Normally 0 (no varying arrays)                  \n",
       "GCOUNT  =                    1 /Required value                                  \n",
       "TFIELDS =                   23 /Number of columns in table                      \n",
       "COMMENT                                                                         \n",
       "COMMENT  *** End of mandatory fields ***                                        \n",
       "COMMENT                                                                         \n",
       "COMMENT                                                                         \n",
       "COMMENT  *** Column names ***                                                   \n",
       "COMMENT                                                                         \n",
       "TTYPE1  = 'RA      '           /                                                \n",
       "TTYPE2  = 'DEC     '           /                                                \n",
       "TTYPE3  = 'J       '           /                                                \n",
       "TTYPE4  = 'H       '           /                                                \n",
       "TTYPE5  = 'K       '           /                                                \n",
       "TTYPE6  = 'EJ      '           /                                                \n",
       "TTYPE7  = 'EH      '           /                                                \n",
       "TTYPE8  = 'EK      '           /                                                \n",
       "TTYPE9  = 'GP      '           /                                                \n",
       "TTYPE10 = 'BP      '           /                                                \n",
       "TTYPE11 = 'RP      '           /                                                \n",
       "TTYPE12 = 'EGP     '           /                                                \n",
       "TTYPE13 = 'EBP     '           /                                                \n",
       "TTYPE14 = 'ERP     '           /                                                \n",
       "TTYPE15 = 'W1      '           /                                                \n",
       "TTYPE16 = 'EW1     '           /                                                \n",
       "TTYPE17 = 'SSID    '           /                                                \n",
       "TTYPE18 = 'PARA    '           /                                                \n",
       "TTYPE19 = 'EPARA   '           /                                                \n",
       "TTYPE20 = 'REGK    '           /                                                \n",
       "TTYPE21 = 'REBR    '           /                                                \n",
       "TTYPE22 = 'REHK    '           /                                                \n",
       "TTYPE23 = 'DIS     '           /                                                \n",
       "COMMENT                                                                         \n",
       "COMMENT  *** Column formats ***                                                 \n",
       "COMMENT                                                                         \n",
       "TFORM1  = 'D       '           /                                                \n",
       "TFORM2  = 'D       '           /                                                \n",
       "TFORM3  = 'E       '           /                                                \n",
       "TFORM4  = 'E       '           /                                                \n",
       "TFORM5  = 'E       '           /                                                \n",
       "TFORM6  = 'E       '           /                                                \n",
       "TFORM7  = 'E       '           /                                                \n",
       "TFORM8  = 'E       '           /                                                \n",
       "TFORM9  = 'E       '           /                                                \n",
       "TFORM10 = 'E       '           /                                                \n",
       "TFORM11 = 'E       '           /                                                \n",
       "TFORM12 = 'E       '           /                                                \n",
       "TFORM13 = 'E       '           /                                                \n",
       "TFORM14 = 'E       '           /                                                \n",
       "TFORM15 = 'E       '           /                                                \n",
       "TFORM16 = 'E       '           /                                                \n",
       "TFORM17 = '19A     '           /                                                \n",
       "TFORM18 = 'E       '           /                                                \n",
       "TFORM19 = 'E       '           /                                                \n",
       "TFORM20 = 'D       '           /                                                \n",
       "TFORM21 = 'D       '           /                                                \n",
       "TFORM22 = 'D       '           /                                                \n",
       "TFORM23 = 'E       '           /                                                "
      ]
     },
     "execution_count": 17,
     "metadata": {},
     "output_type": "execute_result"
    }
   ],
   "source": [
    "header = fits.getheader('catwithdis.fit',1)\n",
    "header"
   ]
  },
  {
   "cell_type": "code",
   "execution_count": 5,
   "metadata": {
    "collapsed": true
   },
   "outputs": [
    {
     "ename": "KeyboardInterrupt",
     "evalue": "",
     "output_type": "error",
     "traceback": [
      "\u001b[0;31m---------------------------------------------------------------------------\u001b[0m",
      "\u001b[0;31mKeyboardInterrupt\u001b[0m                         Traceback (most recent call last)",
      "\u001b[0;32m<timed exec>\u001b[0m in \u001b[0;36m<module>\u001b[0;34m()\u001b[0m\n",
      "\u001b[0;32m~/anaconda3/lib/python3.6/site-packages/astropy/units/core.py\u001b[0m in \u001b[0;36m__rmul__\u001b[0;34m(self, m)\u001b[0m\n\u001b[1;32m    710\u001b[0m                 \u001b[0;32mreturn\u001b[0m \u001b[0mresult\u001b[0m\u001b[0;34m\u001b[0m\u001b[0m\n\u001b[1;32m    711\u001b[0m             \u001b[0;32melse\u001b[0m\u001b[0;34m:\u001b[0m\u001b[0;34m\u001b[0m\u001b[0m\n\u001b[0;32m--> 712\u001b[0;31m                 \u001b[0;32mreturn\u001b[0m \u001b[0mQuantity\u001b[0m\u001b[0;34m(\u001b[0m\u001b[0mm\u001b[0m\u001b[0;34m,\u001b[0m \u001b[0mself\u001b[0m\u001b[0;34m)\u001b[0m\u001b[0;34m\u001b[0m\u001b[0m\n\u001b[0m\u001b[1;32m    713\u001b[0m         \u001b[0;32mexcept\u001b[0m \u001b[0mTypeError\u001b[0m\u001b[0;34m:\u001b[0m\u001b[0;34m\u001b[0m\u001b[0m\n\u001b[1;32m    714\u001b[0m             \u001b[0;32mreturn\u001b[0m \u001b[0mNotImplemented\u001b[0m\u001b[0;34m\u001b[0m\u001b[0m\n",
      "\u001b[0;32m~/anaconda3/lib/python3.6/site-packages/astropy/units/quantity.py\u001b[0m in \u001b[0;36m__new__\u001b[0;34m(cls, value, unit, dtype, copy, order, subok, ndmin)\u001b[0m\n\u001b[1;32m    368\u001b[0m \u001b[0;34m\u001b[0m\u001b[0m\n\u001b[1;32m    369\u001b[0m         value = np.array(value, dtype=dtype, copy=copy, order=order,\n\u001b[0;32m--> 370\u001b[0;31m                          subok=False, ndmin=ndmin)\n\u001b[0m\u001b[1;32m    371\u001b[0m \u001b[0;34m\u001b[0m\u001b[0m\n\u001b[1;32m    372\u001b[0m         \u001b[0;31m# check that array contains numbers or long int objects\u001b[0m\u001b[0;34m\u001b[0m\u001b[0;34m\u001b[0m\u001b[0m\n",
      "\u001b[0;31mKeyboardInterrupt\u001b[0m: "
     ]
    }
   ],
   "source": [
    "%%time\n",
    "\n",
    "c = SkyCoord(data['ra'] * u.deg, data['dec'] * u.deg, frame='icrs')"
   ]
  },
  {
   "cell_type": "code",
   "execution_count": 14,
   "metadata": {},
   "outputs": [
    {
     "name": "stdout",
     "output_type": "stream",
     "text": [
      "Wall time: 23.2 s\n"
     ]
    }
   ],
   "source": [
    "%%time\n",
    "\n",
    "l = c.galactic.l.degree\n",
    "b = c.galactic.b.degree"
   ]
  },
  {
   "cell_type": "code",
   "execution_count": null,
   "metadata": {},
   "outputs": [],
   "source": [
    "col_l = fits.Column(name='l', format='D', array=l)\n",
    "col_b = fits.Column(name='b', format='D', array=b)\n",
    "new_cols = fits.ColDefs([col_l, col_b])\n",
    "orig_cols = data.columns\n",
    "hdu = fits.BinTableHDU.from_columns(orig_cols + new_cols)\n",
    "hdu.writeto('newtable.fits')"
   ]
  },
  {
   "cell_type": "code",
   "execution_count": 6,
   "metadata": {},
   "outputs": [],
   "source": [
    "hdulist.close()"
   ]
  },
  {
   "cell_type": "code",
   "execution_count": 8,
   "metadata": {},
   "outputs": [],
   "source": [
    "hdulist2 = fits.open('newtable.fits')"
   ]
  },
  {
   "cell_type": "code",
   "execution_count": 10,
   "metadata": {},
   "outputs": [
    {
     "data": {
      "text/plain": [
       "ColDefs(\n",
       "    name = 'RA'; format = 'D'\n",
       "    name = 'DEC'; format = 'D'\n",
       "    name = 'J'; format = 'E'\n",
       "    name = 'H'; format = 'E'\n",
       "    name = 'K'; format = 'E'\n",
       "    name = 'EJ'; format = 'E'\n",
       "    name = 'EH'; format = 'E'\n",
       "    name = 'EK'; format = 'E'\n",
       "    name = 'GP'; format = 'E'\n",
       "    name = 'BP'; format = 'E'\n",
       "    name = 'RP'; format = 'E'\n",
       "    name = 'EGP'; format = 'E'\n",
       "    name = 'EBP'; format = 'E'\n",
       "    name = 'ERP'; format = 'E'\n",
       "    name = 'W1'; format = 'E'\n",
       "    name = 'EW1'; format = 'E'\n",
       "    name = 'SSID'; format = '19A'\n",
       "    name = 'PARA'; format = 'E'\n",
       "    name = 'EPARA'; format = 'E'\n",
       "    name = 'REGK'; format = 'D'\n",
       "    name = 'REBR'; format = 'D'\n",
       "    name = 'REHK'; format = 'D'\n",
       "    name = 'DIS'; format = 'E'\n",
       "    name = 'l'; format = 'D'\n",
       "    name = 'b'; format = 'D'\n",
       ")"
      ]
     },
     "execution_count": 10,
     "metadata": {},
     "output_type": "execute_result"
    }
   ],
   "source": [
    "cols = hdulist2[1].columns\n",
    "cols"
   ]
  },
  {
   "cell_type": "code",
   "execution_count": 11,
   "metadata": {},
   "outputs": [],
   "source": [
    "data = hdulist2[1].data"
   ]
  },
  {
   "cell_type": "markdown",
   "metadata": {},
   "source": [
    "for ic443 192-186,0-6"
   ]
  },
  {
   "cell_type": "code",
   "execution_count": 17,
   "metadata": {},
   "outputs": [],
   "source": [
    "index = (data.l >= 186) & (data.l <= 192) & (data.b >= 0) & (data.b <=6)"
   ]
  },
  {
   "cell_type": "code",
   "execution_count": 19,
   "metadata": {},
   "outputs": [],
   "source": [
    "field = data[index]"
   ]
  },
  {
   "cell_type": "code",
   "execution_count": null,
   "metadata": {},
   "outputs": [],
   "source": [
    "hdu = fits.BinTableHDU.from_columns(field)"
   ]
  },
  {
   "cell_type": "code",
   "execution_count": null,
   "metadata": {},
   "outputs": [],
   "source": []
  }
 ],
 "metadata": {
  "kernelspec": {
   "display_name": "Python 3",
   "language": "python",
   "name": "python3"
  },
  "language_info": {
   "codemirror_mode": {
    "name": "ipython",
    "version": 3
   },
   "file_extension": ".py",
   "mimetype": "text/x-python",
   "name": "python",
   "nbconvert_exporter": "python",
   "pygments_lexer": "ipython3",
   "version": "3.6.5"
  }
 },
 "nbformat": 4,
 "nbformat_minor": 2
}
