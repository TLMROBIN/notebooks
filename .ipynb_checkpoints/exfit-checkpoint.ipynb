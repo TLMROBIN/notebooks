{
 "cells": [
  {
   "cell_type": "code",
   "execution_count": 1,
   "metadata": {},
   "outputs": [
    {
     "name": "stdout",
     "output_type": "stream",
     "text": [
      "e:\\BNUCloud\\work\\git\\Scripts\\snr14\n"
     ]
    }
   ],
   "source": [
    "cd e:/BNUCloud/work/git/Scripts/snr14/"
   ]
  },
  {
   "cell_type": "code",
   "execution_count": 2,
   "metadata": {
    "collapsed": true
   },
   "outputs": [],
   "source": [
    "from dis_ext import *"
   ]
  },
  {
   "cell_type": "code",
   "execution_count": 149,
   "metadata": {
    "collapsed": true
   },
   "outputs": [],
   "source": [
    "def sigmaclips(data, start, end, length, sigmanum):\n",
    "    #sigmaclip the samples in bins and return their mean and error\n",
    "    data=np.array(data)\n",
    "    bin_number = int((end - start) // length)#decide how many bins will be choosen\n",
    "    binmed = np.zeros(bin_number)\n",
    "    binmed_err = np.zeros(bin_number)\n",
    "    bindis = np.zeros(bin_number)\n",
    "    arlist = []\n",
    "    dislist = []\n",
    "    for i in np.arange(bin_number):\n",
    "        index = np.logical_and(data[0] > start + i * length, data[0] < start + (i + 1) * length)\n",
    "        if np.count_nonzero(index) >= 1:\n",
    "            binar = data[1][index]\n",
    "            bindis = data[0][index]\n",
    "            arb = sigma_clip(binar, sigma = sigmanum)\n",
    "            disb = np.ma.masked_array(bindis, arb.mask)\n",
    "        else:\n",
    "            arb = []\n",
    "            disb = []\n",
    "        arlist.append(arb)\n",
    "        dislist.append(disb)\n",
    "    ar = np.concatenate(arlist)\n",
    "    dis = np.concatenate(dislist)\n",
    "    ar = np.ma.compressed(ar)\n",
    "    dis = np.ma.compressed(dis)\n",
    "    return dis, ar"
   ]
  },
  {
   "cell_type": "code",
   "execution_count": 154,
   "metadata": {
    "collapsed": true
   },
   "outputs": [],
   "source": [
    "def MCMCbasic(dis, ar, ndim, nwalkers, start, end, step, p0, diameter, sigmanum):\n",
    "    ##\n",
    "    x, y = sigmaclips(np.array([dis,ar]), start, end, step, sigmanum)\n",
    "    #x, y, yerr = np.insert(x, 0, 0), np.insert(y, 0, 0), np.insert(yerr, 0, 0.01)\n",
    "    yerr = np.zeros_like(x)\n",
    "    D = np.zeros_like(x)\n",
    "    yerr[:] = 0.15\n",
    "    D[:] = diameter\n",
    "    pos = [np.array(p0) + 1e-2*np.random.randn(ndim) for i in range(nwalkers)]\n",
    "    sampler = emcee.EnsembleSampler(nwalkers, ndim, lnprob, args=(x, y, yerr, D))\n",
    "    sampler.run_mcmc(pos, 2000)\n",
    "    samples = sampler.chain[:, 200:, :].reshape((-1, ndim))\n",
    "    #samfig = corner.corner(samples, labels = [\"$a$\", \"$b$\", r'$\\d_0\\$', r'$\\deltaA_r\\$' ])\n",
    "    results = np.percentile(samples, [16, 50, 84], axis = 0)\n",
    "    pfit = results[1]\n",
    "    lower = results[0] - results[1]\n",
    "    uper = results[2] - results[1]\n",
    "    return pfit, samples, lower, uper"
   ]
  },
  {
   "cell_type": "code",
   "execution_count": 157,
   "metadata": {
    "collapsed": true
   },
   "outputs": [],
   "source": [
    "def disarMCMCall(name, ndim = 4, nwalkers = 100, start = 0.3, end = 3.0 ,step = 0.1, p0 = [0.81, -0.07, 1.2, 0.2], \n",
    "                 diameter = 45, img2 = False, sigmanum = 2, strategy = None, N = 1000):\n",
    "    if img2 == False:\n",
    "        datapath = pjoin('..', '..', 'Data', 'extin3d', 'results', '{0}_diar.pkl'.format(name))\n",
    "    else:\n",
    "        datapath = pjoin('..', '..', 'Data', 'extin3d', 'results', '{0}_diar_2.pkl'.format(name))\n",
    "    datafile = open(datapath, 'rb')\n",
    "    data = _pickle.load(datafile)\n",
    "    dis, ar = data.dis, data.ar\n",
    "    datafile.close()\n",
    "    if strategy == 'Bootstrap':\n",
    "        paras = np.zeros((N,4))\n",
    "        for i in range(N):\n",
    "            ix = np.random.choice(len(dis), int(len(dis)*0.9))\n",
    "            disi = dis[ix]\n",
    "            ari = ar[ix]\n",
    "            paras[i], _, _, _= MCMCbasic(disi, ari, ndim, nwalkers, start, end, step, p0, diameter, sigmanum)\n",
    "        pfit = np.mean(paras, axis = 0)\n",
    "        perror = np.std(paras, axis = 0)\n",
    "    elif strategy == 'MC':\n",
    "        paras = np.zeros((N,4))\n",
    "        for i in range(N):\n",
    "            disi = dis * (1+np.random.normal(loc=0.,scale=0.2, size=len(dis)))\n",
    "            ari = ar\n",
    "            paras[i], _, _, _= MCMCbasic(disi, ari, ndim, nwalkers, start, end, step, p0, diameter, sigmanum)\n",
    "        pfit = np.mean(paras, axis = 0)\n",
    "        perror = np.std(paras, axis = 0)\n",
    "    else:\n",
    "        pfit, paras, l, u = MCMCbasic(dis, ar, ndim, nwalkers, start, end, step, p0, diameter, sigmanum)\n",
    "        perror = (u - l) / 2\n",
    "    \n",
    "    x1 = np.arange(0,5,0.01)\n",
    "    fig = plt.figure()\n",
    "    ax = fig.add_subplot(111)\n",
    "    stars = ax.plot(dis,ar,'.k', label = 'Sources in selected area')\n",
    "    for a, b, d0, d_ar  in paras[np.random.randint(len(paras), size=100)]:\n",
    "        _=ax.plot(x1, a * x1 + b * x1 ** 2 + d_ar / 2.0 * (1 + erf((x1 - d0) / np.sqrt(2) / (diameter/60./360*2*np.pi)/d0)) ,\n",
    "                  color=\"b\", alpha=0.1)\n",
    "    #star_sem = ax.errorbar(x, y, yerr = yerr, fmt = '.', color = 'r', capsize = 2, zorder=10)\n",
    "    #star_sem.set_label('Medians and errors')\n",
    "    ax.set_xlim([0,3.5])\n",
    "    ax.set_ylim([0,4.0])\n",
    "    xla = ax.set_xlabel(r'Distance/kpc')\n",
    "    yla = ax.set_ylabel(r'Extiction/mag')\n",
    "    a, b = pfit[0], pfit[1]\n",
    "    fakeline = ax.plot(x1, a * x1 + b * x1 ** 2, 'r--', label = 'Ar(d) without MC')\n",
    "    ax.legend()\n",
    "    tit = ax.set_title('extinction vs distance of {0}'.format(name))\n",
    "    if img2 == False:\n",
    "        eximg = pjoin('..', '..', 'Data', 'extin3d', 'results', 'snrext_{0}.png'.format(name))\n",
    "        samimg = pjoin('..', '..', 'Data', 'extin3d', 'results', 'corner_{0}.png'.format(name))\n",
    "    else:\n",
    "        eximg = pjoin('..', '..', 'Data', 'extin3d', 'results', 'snrext_{0}_2.png'.format(name))\n",
    "        samimg = pjoin('..', '..', 'Data', 'extin3d', 'results', 'corner_{0}_2.png'.format(name))\n",
    "    #fig.savefig(eximg)\n",
    "    #samfig.savefig(samimg)\n",
    "    plt.show()\n",
    "    return pfit, perror\n"
   ]
  },
  {
   "cell_type": "code",
   "execution_count": 151,
   "metadata": {
    "collapsed": true
   },
   "outputs": [
    {
     "name": "stdout",
     "output_type": "stream",
     "text": [
      "596 596\n",
      "605 605\n",
      "608 608\n",
      "601 601\n",
      "604 604\n",
      "610 610\n",
      "619 619\n",
      "608 608\n",
      "611 611\n",
      "616 616\n",
      "598 598\n",
      "586 586\n",
      "604 604\n",
      "613 613\n",
      "612 612\n",
      "605 605\n",
      "610 610\n",
      "604 604\n",
      "613 613\n",
      "613 613\n",
      "609 609\n",
      "601 601\n",
      "596 596\n",
      "592 592\n",
      "611 611\n",
      "609 609\n",
      "608 608\n",
      "597 597\n",
      "611 611\n",
      "611 611\n",
      "609 609\n",
      "616 616\n",
      "605 605\n",
      "601 601\n",
      "590 590\n",
      "609 609\n",
      "619 619\n",
      "603 603\n",
      "590 590\n",
      "599 599\n",
      "615 615\n",
      "601 601\n",
      "623 623\n",
      "602 602\n",
      "611 611\n",
      "605 605\n",
      "600 600\n",
      "607 607\n",
      "601 601\n",
      "611 611\n",
      "602 602\n",
      "614 614\n",
      "602 602\n",
      "613 613\n",
      "600 600\n",
      "608 608\n",
      "610 610\n",
      "590 590\n",
      "612 612\n",
      "603 603\n",
      "596 596\n",
      "611 611\n",
      "610 610\n",
      "596 596\n",
      "600 600\n",
      "603 603\n",
      "598 598\n",
      "597 597\n",
      "613 613\n",
      "609 609\n",
      "607 607\n",
      "621 621\n",
      "599 599\n",
      "601 601\n",
      "612 612\n",
      "614 614\n",
      "606 606\n",
      "606 606\n",
      "589 589\n",
      "619 619\n",
      "605 605\n",
      "604 604\n",
      "602 602\n",
      "618 618\n",
      "614 614\n",
      "618 618\n",
      "603 603\n",
      "604 604\n",
      "601 601\n",
      "610 610\n",
      "611 611\n",
      "607 607\n",
      "612 612\n",
      "592 592\n",
      "613 613\n",
      "612 612\n",
      "606 606\n",
      "612 612\n",
      "616 616\n",
      "603 603\n"
     ]
    }
   ],
   "source": [
    "name='snr169'\n",
    "ndim = 4\n",
    "nwalkers = 100\n",
    "start = 0.3\n",
    "end = 3.0 \n",
    "step = 0.1\n",
    "p0 = [0.81, -0.07, 1.2, 0.2]\n",
    "diameter = 45\n",
    "sigmanum = 2\n",
    "strategy = None\n",
    "N = 1000\n",
    "\n",
    "datapath = pjoin('..', '..', 'Data', 'extin3d', 'results', '{0}_diar.pkl'.format(name))\n",
    "datafile = open(datapath, 'rb')\n",
    "data = _pickle.load(datafile)\n",
    "dis, ar = data.dis, data.ar\n",
    "datafile.close()\n",
    "paras = np.zeros((100,4))\n",
    "for i in range(100):\n",
    "    ix = np.random.choice(len(dis), len(dis)//2)\n",
    "    disi = dis[ix]\n",
    "    ari = ar[ix]\n",
    "    x, y = sigmaclips(np.array([disi,ari]), start, end, step, sigmanum)\n",
    "    print(len(x),len(y))\n",
    "    #paras[i], _, _, _= MCMCbasic(disi, ari, ndim, nwalkers, start, end, step, p0, diameter, sigmanum)"
   ]
  },
  {
   "cell_type": "code",
   "execution_count": 144,
   "metadata": {
    "collapsed": true
   },
   "outputs": [],
   "source": [
    "name='snr169'\n",
    "ndim = 4\n",
    "nwalkers = 100\n",
    "start = 0.3\n",
    "end = 3.0 \n",
    "step = 0.1\n",
    "p0 = [0.81, -0.07, 1.2, 0.2]\n",
    "diameter = 45\n",
    "sigmanum = 2\n",
    "strategy = None\n",
    "N = 1000\n",
    "\n",
    "datapath = pjoin('..', '..', 'Data', 'extin3d', 'results', '{0}_diar.pkl'.format(name))\n",
    "datafile = open(datapath, 'rb')\n",
    "data = _pickle.load(datafile)\n",
    "dis, ar = data.dis, data.ar\n",
    "datafile.close()\n",
    "paras = np.zeros((100,4))\n",
    "ix = np.random.choice(len(dis), len(dis)//2)\n",
    "disi = dis[ix]\n",
    "ari = ar[ix]"
   ]
  },
  {
   "cell_type": "code",
   "execution_count": 155,
   "metadata": {},
   "outputs": [
    {
     "name": "stdout",
     "output_type": "stream",
     "text": [
      "Wall time: 12.1 s\n"
     ]
    }
   ],
   "source": [
    "%%time\n",
    "ccccc, _, _, _= MCMCbasic(disi, ari, ndim, nwalkers, start, end, step, p0, diameter, sigmanum)"
   ]
  },
  {
   "cell_type": "code",
   "execution_count": 5,
   "metadata": {
    "collapsed": true
   },
   "outputs": [],
   "source": [
    "import _pickle"
   ]
  },
  {
   "cell_type": "code",
   "execution_count": null,
   "metadata": {
    "scrolled": false
   },
   "outputs": [],
   "source": [
    "%%time\n",
    "pfit, perror=disarMCMCall('snr169', strategy='Bootstrap',N=100)"
   ]
  },
  {
   "cell_type": "code",
   "execution_count": 61,
   "metadata": {
    "scrolled": true
   },
   "outputs": [
    {
     "data": {
      "image/png": "[encoded data removed]",
      "text/plain": [
       "<matplotlib.figure.Figure at 0x193dad42400>"
      ]
     },
     "metadata": {},
     "output_type": "display_data"
    }
   ],
   "source": [
    "datt = daa[:,2]\n",
    "\n",
    "plt.plot(datt)\n",
    "plt.show()"
   ]
  },
  {
   "cell_type": "code",
   "execution_count": null,
   "metadata": {
    "collapsed": true
   },
   "outputs": [],
   "source": []
  }
 ],
 "metadata": {
  "kernelspec": {
   "display_name": "Python 3",
   "language": "python",
   "name": "python3"
  },
  "language_info": {
   "codemirror_mode": {
    "name": "ipython",
    "version": 3
   },
   "file_extension": ".py",
   "mimetype": "text/x-python",
   "name": "python",
   "nbconvert_exporter": "python",
   "pygments_lexer": "ipython3",
   "version": "3.6.1"
  }
 },
 "nbformat": 4,
 "nbformat_minor": 2
}
