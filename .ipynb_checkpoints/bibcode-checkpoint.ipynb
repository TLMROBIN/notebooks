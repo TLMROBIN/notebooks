{
 "cells": [
  {
   "cell_type": "code",
   "execution_count": 1,
   "metadata": {
    "scrolled": true
   },
   "outputs": [
    {
     "name": "stdout",
     "output_type": "stream",
     "text": [
      "e:\\BNUCloud\\work\\git\\Scripts\n"
     ]
    }
   ],
   "source": [
    "cd e:/BNUCloud/work/git/Scripts/"
   ]
  },
  {
   "cell_type": "code",
   "execution_count": 2,
   "metadata": {
    "scrolled": false
   },
   "outputs": [
    {
     "name": "stdout",
     "output_type": "stream",
     "text": [
      "There are 103 papers published\n",
      "There are 5 Citations of 2015MNRAS.454..569W in given time range::\n",
      "2016AcA....66..469K 12/2016 http://adsabs.harvard.edu/abs/2016AcA....66..469K\n",
      "2016P&SS..133....1K 11/2016 http://adsabs.harvard.edu/abs/2016P&SS..133....1K\n",
      "2016ApJS..224...23X 06/2016 http://adsabs.harvard.edu/abs/2016ApJS..224...23X\n",
      "2016MNRAS.455.4373D 02/2016 http://adsabs.harvard.edu/abs/2016MNRAS.455.4373D\n",
      "2015ApJ...811...38W 09/2015 http://adsabs.harvard.edu/abs/2015ApJ...811...38W\n",
      "There are 6 Citations of 2015ApJ...811...38W in given time range::\n",
      "2016Ap.....59..548G 12/2016 http://adsabs.harvard.edu/abs/2016Ap.....59..548G\n",
      "2016AstL...42..445G 07/2016 http://adsabs.harvard.edu/abs/2016AstL...42..445G\n",
      "2016ApJS..224...23X 06/2016 http://adsabs.harvard.edu/abs/2016ApJS..224...23X\n",
      "2016MNRAS.458.2553A 05/2016 http://adsabs.harvard.edu/abs/2016MNRAS.458.2553A\n",
      "2016MNRAS.455.4373D 02/2016 http://adsabs.harvard.edu/abs/2016MNRAS.455.4373D\n",
      "2015MNRAS.454..569W 11/2015 http://adsabs.harvard.edu/abs/2015MNRAS.454..569W\n",
      "There are 26 Citations of 2014MNRAS.443.1192C in given time range::\n",
      "2016MNRAS.463.3604H 12/2016 http://adsabs.harvard.edu/abs/2016MNRAS.463.3604H\n",
      "2016Ap.....59..548G 12/2016 http://adsabs.harvard.edu/abs/2016Ap.....59..548G\n",
      "2016MNRAS.463..811O 11/2016 http://adsabs.harvard.edu/abs/2016MNRAS.463..811O\n",
      "2016PhDT.......248C 09/2016 http://adsabs.harvard.edu/abs/2016PhDT.......248C\n",
      "2016MNRAS.460.3179W 08/2016 http://adsabs.harvard.edu/abs/2016MNRAS.460.3179W\n",
      "2016RAA....16..107B 07/2016 http://adsabs.harvard.edu/abs/2016RAA....16..107B\n",
      "2016ApJS..224...23X 06/2016 http://adsabs.harvard.edu/abs/2016ApJS..224...23X\n",
      "2015MNRAS.454.2863H 12/2015 http://adsabs.harvard.edu/abs/2015MNRAS.454.2863H\n",
      "2015ApJ...810...25G 09/2015 http://adsabs.harvard.edu/abs/2015ApJ...810...25G\n",
      "2015RAA....15.1294Z 08/2015 http://adsabs.harvard.edu/abs/2015RAA....15.1294Z\n",
      "2015RAA....15.1209X 08/2015 http://adsabs.harvard.edu/abs/2015RAA....15.1209X\n",
      "2015RAA....15.1137L 08/2015 http://adsabs.harvard.edu/abs/2015RAA....15.1137L\n",
      "2015A&A...580A..23P 08/2015 http://adsabs.harvard.edu/abs/2015A&A...580A..23P\n",
      "2015RAA....15..860Y 06/2015 http://adsabs.harvard.edu/abs/2015RAA....15..860Y\n",
      "2015MNRAS.450..743R 06/2015 http://adsabs.harvard.edu/abs/2015MNRAS.450..743R\n",
      "2015A&A...577A.142M 05/2015 http://adsabs.harvard.edu/abs/2015A&A...577A.142M\n",
      "2015A&A...577A..77S 05/2015 http://adsabs.harvard.edu/abs/2015A&A...577A..77S\n",
      "2015MNRAS.448.2187C 04/2015 http://adsabs.harvard.edu/abs/2015MNRAS.448.2187C\n",
      "2015ApJ...803...13Y 04/2015 http://adsabs.harvard.edu/abs/2015ApJ...803...13Y\n",
      "2015MNRAS.448..855Y 03/2015 http://adsabs.harvard.edu/abs/2015MNRAS.448..855Y\n",
      "2015MNRAS.448..822X 03/2015 http://adsabs.harvard.edu/abs/2015MNRAS.448..822X\n",
      "2015MNRAS.448...90X 03/2015 http://adsabs.harvard.edu/abs/2015MNRAS.448...90X\n",
      "2015ApJ...801..105X 03/2015 http://adsabs.harvard.edu/abs/2015ApJ...801..105X\n",
      "2015ApJ...799..134Y 02/2015 http://adsabs.harvard.edu/abs/2015ApJ...799..134Y\n",
      "2015ApJ...799..133Y 02/2015 http://adsabs.harvard.edu/abs/2015ApJ...799..133Y\n",
      "2015ApJ...799..116S 02/2015 http://adsabs.harvard.edu/abs/2015ApJ...799..116S\n",
      "There are 10 Citations of 2014ApJ...788L..12W in given time range::\n",
      "2016ApJS..224...23X 06/2016 http://adsabs.harvard.edu/abs/2016ApJS..224...23X\n",
      "2016A&A...589A..69D 05/2016 http://adsabs.harvard.edu/abs/2016A&A...589A..69D\n",
      "2016ApJ...821...78S 04/2016 http://adsabs.harvard.edu/abs/2016ApJ...821...78S\n",
      "2016A&A...585A..78J 01/2016 http://adsabs.harvard.edu/abs/2016A&A...585A..78J\n",
      "2016A&A...585A..38J 01/2016 http://adsabs.harvard.edu/abs/2016A&A...585A..38J\n",
      "2015A&A...584A..93J 12/2015 http://adsabs.harvard.edu/abs/2015A&A...584A..93J\n",
      "2015ApJS..219...21Z 08/2015 http://adsabs.harvard.edu/abs/2015ApJS..219...21Z\n",
      "2015ApJ...809..120M 08/2015 http://adsabs.harvard.edu/abs/2015ApJ...809..120M\n",
      "2015A&A...577A..77S 05/2015 http://adsabs.harvard.edu/abs/2015A&A...577A..77S\n",
      "2015A&A...575A..10D 03/2015 http://adsabs.harvard.edu/abs/2015A&A...575A..10D\n",
      "2015MNRAS.446.1268C 01/2015 http://adsabs.harvard.edu/abs/2015MNRAS.446.1268C\n",
      "There are 5 Citations of 2013ApJ...777..111L in given time range::\n",
      "2016ApJ...825...68M 07/2016 http://adsabs.harvard.edu/abs/2016ApJ...825...68M\n",
      "2016ARep...60..344K 03/2016 http://adsabs.harvard.edu/abs/2016ARep...60..344K\n",
      "2015MNRAS.449.2250K 05/2015 http://adsabs.harvard.edu/abs/2015MNRAS.449.2250K\n",
      "2015ApJ...802...39M 03/2015 http://adsabs.harvard.edu/abs/2015ApJ...802...39M\n",
      "2015ApJ...801..110P 03/2015 http://adsabs.harvard.edu/abs/2015ApJ...801..110P\n",
      "There are 8 Citations of 2013ApJ...776....7G in given time range::\n",
      "2016Ap.....59..548G 12/2016 http://adsabs.harvard.edu/abs/2016Ap.....59..548G\n",
      "2016MNRAS.460..383P 07/2016 http://adsabs.harvard.edu/abs/2016MNRAS.460..383P\n",
      "2016AstL...42..445G 07/2016 http://adsabs.harvard.edu/abs/2016AstL...42..445G\n",
      "2016ApJS..224...23X 06/2016 http://adsabs.harvard.edu/abs/2016ApJS..224...23X\n",
      "2016ApJS..224...21R 06/2016 http://adsabs.harvard.edu/abs/2016ApJS..224...21R\n",
      "2016A&A...590A..50P 05/2016 http://adsabs.harvard.edu/abs/2016A&A...590A..50P\n",
      "2015MNRAS.454..839P 11/2015 http://adsabs.harvard.edu/abs/2015MNRAS.454..839P\n",
      "2015MNRAS.450..552P 06/2015 http://adsabs.harvard.edu/abs/2015MNRAS.450..552P\n",
      "2015MNRAS.446.3034R 01/2015 http://adsabs.harvard.edu/abs/2015MNRAS.446.3034R\n",
      "There are 7 Citations of 2013ApJ...773...30W in given time range::\n",
      "2016Ap.....59..548G 12/2016 http://adsabs.harvard.edu/abs/2016Ap.....59..548G\n",
      "2016AstL...42..445G 07/2016 http://adsabs.harvard.edu/abs/2016AstL...42..445G\n",
      "2016ApJS..224...23X 06/2016 http://adsabs.harvard.edu/abs/2016ApJS..224...23X\n",
      "2016MNRAS.455.4373D 02/2016 http://adsabs.harvard.edu/abs/2016MNRAS.455.4373D\n",
      "2015MNRAS.454..569W 11/2015 http://adsabs.harvard.edu/abs/2015MNRAS.454..569W\n",
      "2015ApJ...811...38W 09/2015 http://adsabs.harvard.edu/abs/2015ApJ...811...38W\n",
      "2015ApJ...809..120M 08/2015 http://adsabs.harvard.edu/abs/2015ApJ...809..120M\n",
      "There are 6 Citations of 2012ApJ...754...35Y in given time range::\n",
      "2016JAVSO..44...94P 12/2016 http://adsabs.harvard.edu/abs/2016JAVSO..44...94P\n",
      "2016A&A...596A..24B 11/2016 http://adsabs.harvard.edu/abs/2016A&A...596A..24B\n",
      "2016A&A...592A..16D 07/2016 http://adsabs.harvard.edu/abs/2016A&A...592A..16D\n",
      "2016A&A...588A.130M 04/2016 http://adsabs.harvard.edu/abs/2016A&A...588A.130M\n",
      "2015MNRAS.451.3504R 08/2015 http://adsabs.harvard.edu/abs/2015MNRAS.451.3504R\n",
      "2015A&A...578A...3G 06/2015 http://adsabs.harvard.edu/abs/2015A&A...578A...3G\n",
      "There are 6 Citations of 2010ApJ...713L.182S in given time range::\n",
      "2016ApJ...832..133S 12/2016 http://adsabs.harvard.edu/abs/2016ApJ...832..133S\n",
      "2016AN....337..783M 09/2016 http://adsabs.harvard.edu/abs/2016AN....337..783M\n",
      "2016MNRAS.457.1851R 04/2016 http://adsabs.harvard.edu/abs/2016MNRAS.457.1851R\n",
      "2016A&A...588A..87V 04/2016 http://adsabs.harvard.edu/abs/2016A&A...588A..87V\n",
      "2016Ap&SS.361...23F 01/2016 http://adsabs.harvard.edu/abs/2016Ap&SS.361...23F\n",
      "2015JApA...36...33J 03/2015 http://adsabs.harvard.edu/abs/2015JApA...36...33J\n",
      "There are 12 Citations of 2009ApJ...707...89G in given time range::\n",
      "2016MNRAS.463.3604H 12/2016 http://adsabs.harvard.edu/abs/2016MNRAS.463.3604H\n",
      "2016Ap.....59..548G 12/2016 http://adsabs.harvard.edu/abs/2016Ap.....59..548G\n",
      "2016AstL...42..445G 07/2016 http://adsabs.harvard.edu/abs/2016AstL...42..445G\n",
      "2016PASA...33...24N 06/2016 http://adsabs.harvard.edu/abs/2016PASA...33...24N\n",
      "2016ApJS..224...23X 06/2016 http://adsabs.harvard.edu/abs/2016ApJS..224...23X\n",
      "2016AJ....151...55V 03/2016 http://adsabs.harvard.edu/abs/2016AJ....151...55V\n",
      "2016MNRAS.455.4373D 02/2016 http://adsabs.harvard.edu/abs/2016MNRAS.455.4373D\n",
      "2015MNRAS.454..569W 11/2015 http://adsabs.harvard.edu/abs/2015MNRAS.454..569W\n",
      "2015ApJ...811...38W 09/2015 http://adsabs.harvard.edu/abs/2015ApJ...811...38W\n",
      "2015MNRAS.451..167F 07/2015 http://adsabs.harvard.edu/abs/2015MNRAS.451..167F\n",
      "2015A&A...579A..76J 07/2015 http://adsabs.harvard.edu/abs/2015A&A...579A..76J\n",
      "2015A&A...577A..77S 05/2015 http://adsabs.harvard.edu/abs/2015A&A...577A..77S\n",
      "There are 7 Citations of 2009ApJ...702..680Z in given time range::\n",
      "2016ApJ...826...44S 07/2016 http://adsabs.harvard.edu/abs/2016ApJ...826...44S\n",
      "2016ApJ...825...68M 07/2016 http://adsabs.harvard.edu/abs/2016ApJ...825...68M\n",
      "2016A&ARv..24....8K 02/2016 http://adsabs.harvard.edu/abs/2016A&ARv..24....8K\n",
      "2015MNRAS.452.4070O 10/2015 http://adsabs.harvard.edu/abs/2015MNRAS.452.4070O\n",
      "2015PKAS...30..283K 09/2015 http://adsabs.harvard.edu/abs/2015PKAS...30..283K\n",
      "2015MNRAS.451.3504R 08/2015 http://adsabs.harvard.edu/abs/2015MNRAS.451.3504R\n",
      "2015ApJ...802...39M 03/2015 http://adsabs.harvard.edu/abs/2015ApJ...802...39M\n"
     ]
    },
    {
     "name": "stdout",
     "output_type": "stream",
     "text": [
      "Total 98 citations\n"
     ]
    }
   ],
   "source": [
    "run cite"
   ]
  },
  {
   "cell_type": "code",
   "execution_count": 18,
   "metadata": {
    "scrolled": false
   },
   "outputs": [
    {
     "name": "stdout",
     "output_type": "stream",
     "text": [
      "There are 103 papers published\n",
      "There are 5 Citations of 2015MNRAS.454..569W in given time range::\n",
      "2016AcA....66..469K 12/2016 http://adsabs.harvard.edu/abs/2016AcA....66..469K\n",
      "2016P&SS..133....1K 11/2016 http://adsabs.harvard.edu/abs/2016P&SS..133....1K\n",
      "2016ApJS..224...23X 06/2016 http://adsabs.harvard.edu/abs/2016ApJS..224...23X\n",
      "2016MNRAS.455.4373D 02/2016 http://adsabs.harvard.edu/abs/2016MNRAS.455.4373D\n",
      "2015ApJ...811...38W 09/2015 http://adsabs.harvard.edu/abs/2015ApJ...811...38W\n",
      "There are 6 Citations of 2015ApJ...811...38W in given time range::\n",
      "2016Ap.....59..548G 12/2016 http://adsabs.harvard.edu/abs/2016Ap.....59..548G\n",
      "2016AstL...42..445G 07/2016 http://adsabs.harvard.edu/abs/2016AstL...42..445G\n",
      "2016ApJS..224...23X 06/2016 http://adsabs.harvard.edu/abs/2016ApJS..224...23X\n",
      "2016MNRAS.458.2553A 05/2016 http://adsabs.harvard.edu/abs/2016MNRAS.458.2553A\n",
      "PDF of 2016MNRAS.458.2553A needs be downloaded manually\n",
      "2016MNRAS.455.4373D 02/2016 http://adsabs.harvard.edu/abs/2016MNRAS.455.4373D\n",
      "2015MNRAS.454..569W 11/2015 http://adsabs.harvard.edu/abs/2015MNRAS.454..569W\n",
      "There are 26 Citations of 2014MNRAS.443.1192C in given time range::\n",
      "2016MNRAS.463.3604H 12/2016 http://adsabs.harvard.edu/abs/2016MNRAS.463.3604H\n",
      "2016Ap.....59..548G 12/2016 http://adsabs.harvard.edu/abs/2016Ap.....59..548G\n",
      "2016MNRAS.463..811O 11/2016 http://adsabs.harvard.edu/abs/2016MNRAS.463..811O\n",
      "2016PhDT.......248C 09/2016 http://adsabs.harvard.edu/abs/2016PhDT.......248C\n",
      "PDF of 2016PhDT.......248C needs be downloaded manually\n",
      "2016MNRAS.460.3179W 08/2016 http://adsabs.harvard.edu/abs/2016MNRAS.460.3179W\n",
      "2016RAA....16..107B 07/2016 http://adsabs.harvard.edu/abs/2016RAA....16..107B\n",
      "PDF of 2016RAA....16..107B needs be downloaded manually\n",
      "2016ApJS..224...23X 06/2016 http://adsabs.harvard.edu/abs/2016ApJS..224...23X\n",
      "2015MNRAS.454.2863H 12/2015 http://adsabs.harvard.edu/abs/2015MNRAS.454.2863H\n",
      "2015ApJ...810...25G 09/2015 http://adsabs.harvard.edu/abs/2015ApJ...810...25G\n",
      "2015RAA....15.1294Z 08/2015 http://adsabs.harvard.edu/abs/2015RAA....15.1294Z\n",
      "2015RAA....15.1209X 08/2015 http://adsabs.harvard.edu/abs/2015RAA....15.1209X\n",
      "2015RAA....15.1137L 08/2015 http://adsabs.harvard.edu/abs/2015RAA....15.1137L\n",
      "2015A&A...580A..23P 08/2015 http://adsabs.harvard.edu/abs/2015A&A...580A..23P\n",
      "2015RAA....15..860Y 06/2015 http://adsabs.harvard.edu/abs/2015RAA....15..860Y\n",
      "PDF of 2015RAA....15..860Y needs be downloaded manually\n",
      "2015MNRAS.450..743R 06/2015 http://adsabs.harvard.edu/abs/2015MNRAS.450..743R\n",
      "2015A&A...577A.142M 05/2015 http://adsabs.harvard.edu/abs/2015A&A...577A.142M\n",
      "2015A&A...577A..77S 05/2015 http://adsabs.harvard.edu/abs/2015A&A...577A..77S\n",
      "2015MNRAS.448.2187C 04/2015 http://adsabs.harvard.edu/abs/2015MNRAS.448.2187C\n",
      "2015ApJ...803...13Y 04/2015 http://adsabs.harvard.edu/abs/2015ApJ...803...13Y\n",
      "2015MNRAS.448..855Y 03/2015 http://adsabs.harvard.edu/abs/2015MNRAS.448..855Y\n",
      "2015MNRAS.448..822X 03/2015 http://adsabs.harvard.edu/abs/2015MNRAS.448..822X\n",
      "2015MNRAS.448...90X 03/2015 http://adsabs.harvard.edu/abs/2015MNRAS.448...90X\n",
      "2015ApJ...801..105X 03/2015 http://adsabs.harvard.edu/abs/2015ApJ...801..105X\n",
      "2015ApJ...799..134Y 02/2015 http://adsabs.harvard.edu/abs/2015ApJ...799..134Y\n",
      "2015ApJ...799..133Y 02/2015 http://adsabs.harvard.edu/abs/2015ApJ...799..133Y\n",
      "2015ApJ...799..116S 02/2015 http://adsabs.harvard.edu/abs/2015ApJ...799..116S\n",
      "There are 10 Citations of 2014ApJ...788L..12W in given time range::\n",
      "2016ApJS..224...23X 06/2016 http://adsabs.harvard.edu/abs/2016ApJS..224...23X\n",
      "2016A&A...589A..69D 05/2016 http://adsabs.harvard.edu/abs/2016A&A...589A..69D\n",
      "2016ApJ...821...78S 04/2016 http://adsabs.harvard.edu/abs/2016ApJ...821...78S\n",
      "2016A&A...585A..78J 01/2016 http://adsabs.harvard.edu/abs/2016A&A...585A..78J\n",
      "2016A&A...585A..38J 01/2016 http://adsabs.harvard.edu/abs/2016A&A...585A..38J\n",
      "2015A&A...584A..93J 12/2015 http://adsabs.harvard.edu/abs/2015A&A...584A..93J\n",
      "2015ApJS..219...21Z 08/2015 http://adsabs.harvard.edu/abs/2015ApJS..219...21Z\n",
      "2015ApJ...809..120M 08/2015 http://adsabs.harvard.edu/abs/2015ApJ...809..120M\n",
      "2015A&A...577A..77S 05/2015 http://adsabs.harvard.edu/abs/2015A&A...577A..77S\n",
      "2015A&A...575A..10D 03/2015 http://adsabs.harvard.edu/abs/2015A&A...575A..10D\n",
      "2015MNRAS.446.1268C 01/2015 http://adsabs.harvard.edu/abs/2015MNRAS.446.1268C\n",
      "There are 5 Citations of 2013ApJ...777..111L in given time range::\n",
      "2016ApJ...825...68M 07/2016 http://adsabs.harvard.edu/abs/2016ApJ...825...68M\n",
      "2016ARep...60..344K 03/2016 http://adsabs.harvard.edu/abs/2016ARep...60..344K\n",
      "2015MNRAS.449.2250K 05/2015 http://adsabs.harvard.edu/abs/2015MNRAS.449.2250K\n",
      "PDF of 2015MNRAS.449.2250K needs be downloaded manually\n",
      "2015ApJ...802...39M 03/2015 http://adsabs.harvard.edu/abs/2015ApJ...802...39M\n",
      "2015ApJ...801..110P 03/2015 http://adsabs.harvard.edu/abs/2015ApJ...801..110P\n",
      "There are 8 Citations of 2013ApJ...776....7G in given time range::\n",
      "2016Ap.....59..548G 12/2016 http://adsabs.harvard.edu/abs/2016Ap.....59..548G\n",
      "2016MNRAS.460..383P 07/2016 http://adsabs.harvard.edu/abs/2016MNRAS.460..383P\n",
      "2016AstL...42..445G 07/2016 http://adsabs.harvard.edu/abs/2016AstL...42..445G\n",
      "2016ApJS..224...23X 06/2016 http://adsabs.harvard.edu/abs/2016ApJS..224...23X\n",
      "2016ApJS..224...21R 06/2016 http://adsabs.harvard.edu/abs/2016ApJS..224...21R\n",
      "2016A&A...590A..50P 05/2016 http://adsabs.harvard.edu/abs/2016A&A...590A..50P\n",
      "2015MNRAS.454..839P 11/2015 http://adsabs.harvard.edu/abs/2015MNRAS.454..839P\n",
      "2015MNRAS.450..552P 06/2015 http://adsabs.harvard.edu/abs/2015MNRAS.450..552P\n",
      "2015MNRAS.446.3034R 01/2015 http://adsabs.harvard.edu/abs/2015MNRAS.446.3034R\n",
      "There are 7 Citations of 2013ApJ...773...30W in given time range::\n",
      "2016Ap.....59..548G 12/2016 http://adsabs.harvard.edu/abs/2016Ap.....59..548G\n",
      "2016AstL...42..445G 07/2016 http://adsabs.harvard.edu/abs/2016AstL...42..445G\n",
      "2016ApJS..224...23X 06/2016 http://adsabs.harvard.edu/abs/2016ApJS..224...23X\n",
      "2016MNRAS.455.4373D 02/2016 http://adsabs.harvard.edu/abs/2016MNRAS.455.4373D\n",
      "2015MNRAS.454..569W 11/2015 http://adsabs.harvard.edu/abs/2015MNRAS.454..569W\n",
      "2015ApJ...811...38W 09/2015 http://adsabs.harvard.edu/abs/2015ApJ...811...38W\n",
      "2015ApJ...809..120M 08/2015 http://adsabs.harvard.edu/abs/2015ApJ...809..120M\n",
      "There are 6 Citations of 2012ApJ...754...35Y in given time range::\n",
      "2016JAVSO..44...94P 12/2016 http://adsabs.harvard.edu/abs/2016JAVSO..44...94P\n",
      "2016A&A...596A..24B 11/2016 http://adsabs.harvard.edu/abs/2016A&A...596A..24B\n",
      "2016A&A...592A..16D 07/2016 http://adsabs.harvard.edu/abs/2016A&A...592A..16D\n",
      "2016A&A...588A.130M 04/2016 http://adsabs.harvard.edu/abs/2016A&A...588A.130M\n",
      "2015MNRAS.451.3504R 08/2015 http://adsabs.harvard.edu/abs/2015MNRAS.451.3504R\n",
      "2015A&A...578A...3G 06/2015 http://adsabs.harvard.edu/abs/2015A&A...578A...3G\n",
      "There are 6 Citations of 2010ApJ...713L.182S in given time range::\n",
      "2016ApJ...832..133S 12/2016 http://adsabs.harvard.edu/abs/2016ApJ...832..133S\n",
      "2016AN....337..783M 09/2016 http://adsabs.harvard.edu/abs/2016AN....337..783M\n",
      "2016MNRAS.457.1851R 04/2016 http://adsabs.harvard.edu/abs/2016MNRAS.457.1851R\n",
      "PDF of 2016MNRAS.457.1851R needs be downloaded manually\n",
      "2016A&A...588A..87V 04/2016 http://adsabs.harvard.edu/abs/2016A&A...588A..87V\n",
      "2016Ap&SS.361...23F 01/2016 http://adsabs.harvard.edu/abs/2016Ap&SS.361...23F\n",
      "PDF of 2016Ap&SS.361...23F needs be downloaded manually\n",
      "2015JApA...36...33J 03/2015 http://adsabs.harvard.edu/abs/2015JApA...36...33J\n",
      "There are 12 Citations of 2009ApJ...707...89G in given time range::\n",
      "2016MNRAS.463.3604H 12/2016 http://adsabs.harvard.edu/abs/2016MNRAS.463.3604H\n",
      "2016Ap.....59..548G 12/2016 http://adsabs.harvard.edu/abs/2016Ap.....59..548G\n",
      "2016AstL...42..445G 07/2016 http://adsabs.harvard.edu/abs/2016AstL...42..445G\n",
      "2016PASA...33...24N 06/2016 http://adsabs.harvard.edu/abs/2016PASA...33...24N\n",
      "2016ApJS..224...23X 06/2016 http://adsabs.harvard.edu/abs/2016ApJS..224...23X\n",
      "2016AJ....151...55V 03/2016 http://adsabs.harvard.edu/abs/2016AJ....151...55V\n",
      "2016MNRAS.455.4373D 02/2016 http://adsabs.harvard.edu/abs/2016MNRAS.455.4373D\n",
      "2015MNRAS.454..569W 11/2015 http://adsabs.harvard.edu/abs/2015MNRAS.454..569W\n",
      "2015ApJ...811...38W 09/2015 http://adsabs.harvard.edu/abs/2015ApJ...811...38W\n",
      "2015MNRAS.451..167F 07/2015 http://adsabs.harvard.edu/abs/2015MNRAS.451..167F\n"
     ]
    },
    {
     "name": "stdout",
     "output_type": "stream",
     "text": [
      "2015A&A...579A..76J 07/2015 http://adsabs.harvard.edu/abs/2015A&A...579A..76J\n",
      "2015A&A...577A..77S 05/2015 http://adsabs.harvard.edu/abs/2015A&A...577A..77S\n",
      "There are 7 Citations of 2009ApJ...702..680Z in given time range::\n",
      "2016ApJ...826...44S 07/2016 http://adsabs.harvard.edu/abs/2016ApJ...826...44S\n",
      "2016ApJ...825...68M 07/2016 http://adsabs.harvard.edu/abs/2016ApJ...825...68M\n",
      "2016A&ARv..24....8K 02/2016 http://adsabs.harvard.edu/abs/2016A&ARv..24....8K\n",
      "PDF of 2016A&ARv..24....8K needs be downloaded manually\n",
      "2015MNRAS.452.4070O 10/2015 http://adsabs.harvard.edu/abs/2015MNRAS.452.4070O\n",
      "2015PKAS...30..283K 09/2015 http://adsabs.harvard.edu/abs/2015PKAS...30..283K\n",
      "PDF of 2015PKAS...30..283K needs be downloaded manually\n",
      "2015MNRAS.451.3504R 08/2015 http://adsabs.harvard.edu/abs/2015MNRAS.451.3504R\n",
      "2015ApJ...802...39M 03/2015 http://adsabs.harvard.edu/abs/2015ApJ...802...39M\n",
      "Total 98 citations\n"
     ]
    }
   ],
   "source": [
    "run cite"
   ]
  },
  {
   "cell_type": "code",
   "execution_count": 36,
   "metadata": {
    "scrolled": true
   },
   "outputs": [
    {
     "name": "stdout",
     "output_type": "stream",
     "text": [
      "e:\\BNUCloud\\work\\git\\Scripts\\Citations_Jiang\n"
     ]
    }
   ],
   "source": [
    "cd ../Citations_Jiang/"
   ]
  },
  {
   "cell_type": "code",
   "execution_count": 53,
   "metadata": {
    "collapsed": true
   },
   "outputs": [],
   "source": [
    "import PyPDF2, os, re"
   ]
  },
  {
   "cell_type": "code",
   "execution_count": 59,
   "metadata": {},
   "outputs": [
    {
     "name": "stderr",
     "output_type": "stream",
     "text": [
      "PdfReadWarning: Xref table not zero-indexed. ID numbers for objects will be corrected. [pdf.py:1736]\n"
     ]
    },
    {
     "ename": "FileNotFoundError",
     "evalue": "[Errno 2] No such file or directory: '2015ApJ...802...39M_9.pdf'",
     "output_type": "error",
     "traceback": [
      "\u001b[1;31m---------------------------------------------------------------------------\u001b[0m",
      "\u001b[1;31mFileNotFoundError\u001b[0m                         Traceback (most recent call last)",
      "\u001b[1;32m<ipython-input-59-16a73598903b>\u001b[0m in \u001b[0;36m<module>\u001b[1;34m()\u001b[0m\n\u001b[0;32m     14\u001b[0m             \u001b[0mcitefiles\u001b[0m\u001b[1;33m.\u001b[0m\u001b[0mappend\u001b[0m\u001b[1;33m(\u001b[0m\u001b[0mcitename\u001b[0m\u001b[1;33m)\u001b[0m\u001b[1;33m\u001b[0m\u001b[0m\n\u001b[0;32m     15\u001b[0m         \u001b[1;32mfor\u001b[0m \u001b[0mcitebibcode\u001b[0m \u001b[1;32min\u001b[0m \u001b[0mcitefiles\u001b[0m\u001b[1;33m:\u001b[0m\u001b[1;33m\u001b[0m\u001b[0m\n\u001b[1;32m---> 16\u001b[1;33m             \u001b[0mciteFileObj\u001b[0m \u001b[1;33m=\u001b[0m \u001b[0mopen\u001b[0m\u001b[1;33m(\u001b[0m\u001b[0mcitebibcode\u001b[0m\u001b[1;33m,\u001b[0m \u001b[1;34m'rb'\u001b[0m\u001b[1;33m)\u001b[0m\u001b[1;33m\u001b[0m\u001b[0m\n\u001b[0m\u001b[0;32m     17\u001b[0m             \u001b[0mciteReader\u001b[0m \u001b[1;33m=\u001b[0m \u001b[0mPyPDF2\u001b[0m\u001b[1;33m.\u001b[0m\u001b[0mPdfFileReader\u001b[0m\u001b[1;33m(\u001b[0m\u001b[0mciteFileObj\u001b[0m\u001b[1;33m)\u001b[0m\u001b[1;33m\u001b[0m\u001b[0m\n\u001b[0;32m     18\u001b[0m             \u001b[0mpageRe\u001b[0m \u001b[1;33m=\u001b[0m \u001b[0mre\u001b[0m\u001b[1;33m.\u001b[0m\u001b[0mcompile\u001b[0m\u001b[1;33m(\u001b[0m\u001b[1;34mr'_(\\d=)'\u001b[0m\u001b[1;33m)\u001b[0m\u001b[1;33m\u001b[0m\u001b[0m\n",
      "\u001b[1;31mFileNotFoundError\u001b[0m: [Errno 2] No such file or directory: '2015ApJ...802...39M_9.pdf'"
     ]
    }
   ],
   "source": [
    "pdfdirs = []\n",
    "for dirname in os.listdir('.'):\n",
    "    if dirname.startswith('2') and not dirname.endswith('.pdf'):\n",
    "        pdfdirs.append(dirname)\n",
    "for bibcode in pdfdirs:\n",
    "    pdfWriter = PyPDF2.PdfFileWriter()\n",
    "    pdfFileObj = open(bibcode+'.pdf', 'rb')\n",
    "    pdfReader = PyPDF2.PdfFileReader(pdfFileObj)\n",
    "    pageObj = pdfReader.getPage(0)\n",
    "    pdfWriter.addPage(pageObj)\n",
    "    citefiles= []\n",
    "    for citename in os.listdir('./{0}'.format(bibcode)):\n",
    "        if citename.endswith('.pdf'):\n",
    "            citefiles.append(citename)\n",
    "        for citebibcode in citefiles:\n",
    "            citeFileObj = open('./{0}/{1}'.format(bibcode, citebibcode), 'rb')\n",
    "            citeReader = PyPDF2.PdfFileReader(citeFileObj)\n",
    "            pageRe = re.compile(r'_(\\d=)')\n",
    "            pageNum = pageRe.search(citebibcode).group(1)\n",
    "            citePageObj = citeReader.getPage(int(pageNum)-1)\n",
    "            pdfWriter.addPage(citePageObj)\n",
    "    pdfOutput = open('./{0}/{1}_total.pdf'.format(bibcode,bibcode), 'wb')\n",
    "    pdfWriter.write(pdfOutput)\n",
    "    pdfOutput.close()\n",
    "    pdfFileObj.close()"
   ]
  },
  {
   "cell_type": "code",
   "execution_count": 57,
   "metadata": {},
   "outputs": [
    {
     "data": {
      "text/plain": [
       "['2009ApJ...702..680Z',\n",
       " '2009ApJ...707...89G',\n",
       " '2012ApJ...754...35Y',\n",
       " '2013ApJ...773...30W',\n",
       " '2013ApJ...776....7G',\n",
       " '2013ApJ...777..111L',\n",
       " '2014ApJ...788L..12W',\n",
       " '2014MNRAS.443.1192C',\n",
       " '2015ApJ...811...38W',\n",
       " '2015MNRAS.454..569W']"
      ]
     },
     "execution_count": 57,
     "metadata": {},
     "output_type": "execute_result"
    }
   ],
   "source": [
    "pdfdirs"
   ]
  },
  {
   "cell_type": "code",
   "execution_count": 6,
   "metadata": {
    "collapsed": true
   },
   "outputs": [],
   "source": [
    "import requests, bs4, PyPDF2, re, time, os\n",
    "from datetime import datetime\n",
    "def adsPdf(citeBibcode):\n",
    "    bibcodeRe = re.compile(r'(\\d\\d\\d\\d)(\\w+)')\n",
    "    journal = bibcodeRe.search(citeBibcode).group(2)\n",
    "    if journal != 'MNRAS':\n",
    "        adsUrl = 'http://adsabs.harvard.edu/cgi-bin/nph-data_query?bibcode={0}&db_key=AST&link_type=ARTICLE'.format(citeBibcode)\n",
    "        resAds = urlAvailable(adsUrl)\n",
    "        return resAds\n",
    "    else:\n",
    "        return False\n"
   ]
  },
  {
   "cell_type": "code",
   "execution_count": 7,
   "metadata": {
    "collapsed": true
   },
   "outputs": [],
   "source": [
    "citeBibcode=\"2016AcA....66..469K\""
   ]
  },
  {
   "cell_type": "code",
   "execution_count": 12,
   "metadata": {
    "collapsed": true
   },
   "outputs": [],
   "source": [
    "bibcodeRe = re.compile(r'(\\d\\d\\d\\d)(\\w+)')\n",
    "journal = bibcodeRe.search(citeBibcode).group(2)"
   ]
  },
  {
   "cell_type": "code",
   "execution_count": 13,
   "metadata": {},
   "outputs": [
    {
     "data": {
      "text/plain": [
       "'AcA'"
      ]
     },
     "execution_count": 13,
     "metadata": {},
     "output_type": "execute_result"
    }
   ],
   "source": [
    "journal"
   ]
  },
  {
   "cell_type": "code",
   "execution_count": 14,
   "metadata": {
    "collapsed": true
   },
   "outputs": [],
   "source": [
    "adsUrl = 'http://adsabs.harvard.edu/cgi-bin/nph-data_query?bibcode={0}&db_key=AST&link_type=ARTICLE'.format(citeBibcode)"
   ]
  },
  {
   "cell_type": "code",
   "execution_count": 15,
   "metadata": {
    "collapsed": true
   },
   "outputs": [],
   "source": [
    "resAds = urlAvailable(adsUrl)"
   ]
  },
  {
   "cell_type": "code",
   "execution_count": 16,
   "metadata": {},
   "outputs": [
    {
     "data": {
      "text/plain": [
       "<Response [200]>"
      ]
     },
     "execution_count": 16,
     "metadata": {},
     "output_type": "execute_result"
    }
   ],
   "source": [
    "resAds"
   ]
  },
  {
   "cell_type": "code",
   "execution_count": 1,
   "metadata": {
    "collapsed": true
   },
   "outputs": [],
   "source": [
    "import requests, bs4, webbrowser\n",
    "from datetime import datetime"
   ]
  },
  {
   "cell_type": "code",
   "execution_count": 27,
   "metadata": {},
   "outputs": [
    {
     "name": "stdout",
     "output_type": "stream",
     "text": [
      "downloading with requests\n"
     ]
    }
   ],
   "source": [
    "import requests \n",
    "print(\"downloading with requests\")\n",
    "url = 'http://adsabs.harvard.edu/cgi-bin/nph-data_query?bibcode=2017ApJ...840...27S&db_key=AST&link_type=ARTICLE' \n",
    "r = requests.get(url) \n",
    "with open(\"2017ApJ...840...27S.pdf\", \"wb\") as code:\n",
    "    code.write(r.content)"
   ]
  },
  {
   "cell_type": "code",
   "execution_count": 31,
   "metadata": {
    "collapsed": true
   },
   "outputs": [],
   "source": [
    "import PyPDF2\n",
    "pdfFile = open('2017ApJ...840...27S.pdf', 'rb')\n",
    "pdfReader = PyPDF2.PdfFileReader(pdfFile)\n",
    "pdfWriter = PyPDF2.PdfFileWriter()\n",
    "pdfWriter.addPage(pdfReader.getPage(-2))\n",
    "pdfOutputFile = open('combinedminutes.pdf', 'wb')\n",
    "pdfWriter.write(pdfOutputFile)\n",
    "pdfOutputFile.close()\n",
    "pdfFile.close()\n"
   ]
  },
  {
   "cell_type": "code",
   "execution_count": 42,
   "metadata": {
    "collapsed": true
   },
   "outputs": [],
   "source": [
    "import requests, bs4, PyPDF2, re\n",
    "from datetime import datetime\n",
    "# Set time range for publication and citation\n",
    "startTime = datetime.strptime('01/01/2016','%d/%m/%Y')\n",
    "endTime = datetime.strptime('31/08/2017','%d/%m/%Y')\n",
    "startCite = datetime.strptime('01/01/2015','%d/%m/%Y')\n",
    "endCite = datetime.strptime('31/12/2016','%d/%m/%Y')\n",
    "# Read the publiction list from ads\n",
    "res = requests.get('http://adsabs.harvard.edu/cgi-bin/nph-abs_connect?library&libname=paper130115&libid=4b1c772297')\n",
    "res.raise_for_status()\n",
    "adspage = bs4.BeautifulSoup(res.text,'lxml')\n",
    "# Select titles and publication date from html\n",
    "titles = adspage.select('table td[width] a')\n",
    "dates = [adspage.select('html body form table tr td[valign=\"baseline\"]')[i] for i in range(3,5*len(titles),5)]\n",
    "Authors = [adspage.select('html body form table tr td[valign=\"top\"]')[i] for i in range(2,2*len(titles)+4,2)]\n",
    "Titles = [adspage.select('html body form table tr td[valign=\"top\"]')[i] for i in range(3,2*len(titles)+4,2)]\n",
    "pubNum = 0\n",
    "citeNum = 0"
   ]
  },
  {
   "cell_type": "code",
   "execution_count": 90,
   "metadata": {
    "collapsed": true
   },
   "outputs": [],
   "source": [
    "pdf1Writer = PyPDF2.PdfFileWriter() # PdfWriter for publications"
   ]
  },
  {
   "cell_type": "code",
   "execution_count": 97,
   "metadata": {
    "collapsed": true
   },
   "outputs": [
    {
     "name": "stdout",
     "output_type": "stream",
     "text": [
      "2017ApJ...840...27S 05/2017 Liu, Jiaming; Jiang, B. W.; Li, Aigen; Gao, Jian On the silicate crystallinities of oxygen-rich evolved stars and their mass-loss rates\n",
      "2017MNRAS.466.1963L 04/2017 Liu, Jiaming; Jiang, Biwei On the Relation of Silicates and SiO Maser in Evolved Stars\n",
      "2017AJ....153..176L 04/2017 Jian, Mingjie; Gao, Shuang; Zhao, He; Jiang, Biwei Revision of Stellar Intrinsic Colors in the Infrared by Spectroscopic Surveys\n",
      "2017AJ....153....5J 01/2017 Mishra, Ajay; Li, Aigen; Jiang, B. W. On the Relation between the Mysterious 21 mum Emission Feature of Post-asymptotic Giant Branch Stars and Their Mass-loss Rates\n",
      "2016ApJ...825...68M 07/2016 Xue, Mengyao; Jiang, B. W.; Gao, Jian; Liu, Jiaming; Wang, Shu; Li, Aigen A Precise Determination of the Mid-infrared Interstellar Extinction Law Based on the APOGEE Spectroscopic Survey\n",
      "2016ApJS..224...23X 06/2016 Chen, Rui; Luo, Ali; Liu, Jiaming; Jiang, Biwei A Systematic Search for the Spectra with Features of Crystalline Silicates in the Spitzer IRS Enhanced Products\n",
      "2016AJ....151..146C 06/2016 Wang, Shu; Li, Aigen; Jiang, B. W. The interstellar oxygen crisis, or where have all the oxygen atoms gone?\n"
     ]
    }
   ],
   "source": [
    "for i in range(len(titles)):\n",
    "    bibcode = titles[i].getText()\n",
    "    date = dates[i].getText()\n",
    "    if date[0:2] == '00':\n",
    "        date = '01'+date[2:]\n",
    "    pubTime = datetime.strptime(date,'%m/%Y')\n",
    "    if pubTime>startTime and pubTime<endTime:\n",
    "        print(bibcode,dates[i].getText(),Authors[i].getText(),Titles[i].getText())\n",
    "        bibcodeRe = re.compile(r'(\\d\\d\\d\\d)(\\w+)')\n",
    "        journal=bibcodeRe.search(bibcode).group(2)\n",
    "        if journal=='MNRAS':\n",
    "            resArxiv=requests.get('http://adsabs.harvard.edu/cgi-bin/nph-data_query?bibcode={0}&db_key=AST&link_type=PREPRINT'.format(bibcode))\n",
    "            try:\n",
    "                resArxiv.raise_for_status()\n",
    "            except Exception:\n",
    "                print('bibcode needs to be downloaded manually')\n",
    "                continue\n",
    "            else:\n",
    "                arxivPage = bs4.BeautifulSoup(resArxiv.text,'lxml')\n",
    "                arxivre=re.compile(r'(arXiv:)(\\d+.\\d+)')\n",
    "                arxivNum=arxivre.search(arxivPage.select('body h1')[0].getText()).group(2)\n",
    "                downloadUrl='https://arxiv.org/pdf/{0}'.format(arxivNum)\n",
    "        else:\n",
    "            downloadUrl='http://adsabs.harvard.edu/cgi-bin/nph-data_query?bibcode={0}&db_key=AST&link_type=ARTICLE'.format(bibcode)\n",
    "        r = requests.get(downloadUrl) # Download from webbrowser\n",
    "        try:\n",
    "            r.raise_for_status()\n",
    "        except Exception:# no PDF\n",
    "            continue\n",
    "        else:\n",
    "            with open('.//Publications_Jiang//{0}.pdf'.format(bibcode),'wb') as code:\n",
    "                code.write(r.content)\n",
    "            pubNum += 1\n",
    "#            pdfFile = open('{0}.pdf'.format(bibcode), 'rb')\n",
    "#            pdfReader = PyPDF2.PdfFileReader(pdfFile)\n",
    "#            pageObj = pdfReader.getPage(0)\n",
    "#            pdf1Writer.addPage(pageObj)\n",
    "#            pdfFile.close()\n",
    "#pdf1OutputFile = open('Publications.pdf', 'wb')\n",
    "#pdf1Writer.write(pdf1OutputFile)\n",
    "#pdf1OutputFile.close()\n",
    "#    pdfFile = open('{0}.pdf'.format(citeBibcode), 'rb')\n",
    "##    pdfReader = PyPDF2.PdfFileReader(pdfFile)\n",
    "#    pageObj = pdfReader.getPage(0) \n",
    "##    pdf2Writer.addPage(pageObj)\n",
    "#    pageObj = pdfReader.getPage(-2) \n",
    " #   pdf2Writer.addPage(pageObj)\n",
    "  #  pageObj = pdfReader.getPage(-1) \n",
    "  #  pdf2Writer.addPage(pageObj)\n",
    "  #  pdfFile.close()\n",
    "#pdf2OutputFile = open('Citations.pdf', 'wb')\n",
    "#pdf2Writer.write(pdf1OutputFile)\n",
    "#pdf2OutputFile.close()"
   ]
  },
  {
   "cell_type": "code",
   "execution_count": 102,
   "metadata": {
    "collapsed": true
   },
   "outputs": [
    {
     "name": "stdout",
     "output_type": "stream",
     "text": [
      "2017ApJ...840...27S 05/2017 Liu, Jiaming; Jiang, B. W.; Li, Aigen; Gao, Jian On the silicate crystallinities of oxygen-rich evolved stars and their mass-loss rates\n",
      "2017MNRAS.466.1963L 04/2017 Liu, Jiaming; Jiang, Biwei On the Relation of Silicates and SiO Maser in Evolved Stars\n",
      "2017AJ....153..176L 04/2017 Jian, Mingjie; Gao, Shuang; Zhao, He; Jiang, Biwei Revision of Stellar Intrinsic Colors in the Infrared by Spectroscopic Surveys\n",
      "2017AJ....153....5J 01/2017 Mishra, Ajay; Li, Aigen; Jiang, B. W. On the Relation between the Mysterious 21 mum Emission Feature of Post-asymptotic Giant Branch Stars and Their Mass-loss Rates\n",
      "2016ApJ...825...68M 07/2016 Xue, Mengyao; Jiang, B. W.; Gao, Jian; Liu, Jiaming; Wang, Shu; Li, Aigen A Precise Determination of the Mid-infrared Interstellar Extinction Law Based on the APOGEE Spectroscopic Survey\n",
      "2016ApJS..224...23X 06/2016 Chen, Rui; Luo, Ali; Liu, Jiaming; Jiang, Biwei A Systematic Search for the Spectra with Features of Crystalline Silicates in the Spitzer IRS Enhanced Products\n",
      "2016AJ....151..146C 06/2016 Wang, Shu; Li, Aigen; Jiang, B. W. The interstellar oxygen crisis, or where have all the oxygen atoms gone?\n"
     ]
    }
   ],
   "source": [
    "for i in range(len(titles)):\n",
    "    bibcode = titles[i].getText()\n",
    "    date = dates[i].getText()\n",
    "    if date[0:2] == '00':\n",
    "        date = '01'+date[2:]\n",
    "    pubTime = datetime.strptime(date,'%m/%Y')\n",
    "    if pubTime>startTime and pubTime<endTime:\n",
    "        print(bibcode,dates[i].getText(),Authors[i].getText(),Titles[i].getText())\n",
    "        bibcodeRe = re.compile(r'(\\d\\d\\d\\d)(\\w+)')\n",
    "        journal=bibcodeRe.search(bibcode).group(2)\n",
    "        if journal=='MNRAS':\n",
    "            resArxiv=requests.get('http://adsabs.harvard.edu/cgi-bin/nph-data_query?bibcode={0}&db_key=AST&link_type=PREPRINT'.format(bibcode))\n",
    "            try:\n",
    "                resArxiv.raise_for_status()\n",
    "            except Exception:\n",
    "                print('bibcode needs to be downloaded manually')\n",
    "                continue\n",
    "            else:\n",
    "                arxivPage = bs4.BeautifulSoup(resArxiv.text,'lxml')\n",
    "                arxivre=re.compile(r'(arXiv:)(\\d+.\\d+)')\n",
    "                arxivNum=arxivre.search(arxivPage.select('body h1')[0].getText()).group(2)\n",
    "                downloadUrl='https://arxiv.org/pdf/{0}'.format(arxivNum)\n",
    "        else:\n",
    "            downloadUrl='http://adsabs.harvard.edu/cgi-bin/nph-data_query?bibcode={0}&db_key=AST&link_type=ARTICLE'.format(bibcode)\n",
    "        r = requests.get(downloadUrl) # Download from webbrowser\n",
    "        try:\n",
    "            r.raise_for_status()\n",
    "        except Exception:# no PDF\n",
    "            continue\n",
    "        else:\n",
    "            with open('.//Publications_Jiang//{0}.pdf'.format(bibcode),'wb') as code:\n",
    "                code.write(r.content)\n",
    "            pubNum += 1"
   ]
  },
  {
   "cell_type": "code",
   "execution_count": 105,
   "metadata": {},
   "outputs": [
    {
     "data": {
      "text/plain": [
       "'2017ApJ...848..106W'"
      ]
     },
     "execution_count": 105,
     "metadata": {},
     "output_type": "execute_result"
    }
   ],
   "source": [
    "titles[0].getText()"
   ]
  },
  {
   "cell_type": "code",
   "execution_count": 106,
   "metadata": {},
   "outputs": [
    {
     "data": {
      "text/plain": [
       "'Shao,\\xa0Zhenzhen; Jiang,\\xa0B.\\xa0W.; Li,\\xa0Aigen'"
      ]
     },
     "execution_count": 106,
     "metadata": {},
     "output_type": "execute_result"
    }
   ],
   "source": [
    "Authors[0].getText()"
   ]
  },
  {
   "cell_type": "code",
   "execution_count": 112,
   "metadata": {
    "collapsed": true
   },
   "outputs": [
    {
     "name": "stdout",
     "output_type": "stream",
     "text": [
      "2017ApJ...840...27S 05/2017 Shao, Zhenzhen; Jiang, B. W.; Li, Aigen On the Optical-to-silicate Extinction Ratio as a Probe of the Dust Size in Active Galactic Nuclei\n",
      "2017MNRAS.466.1963L 04/2017 Liu, Jiaming; Jiang, B. W.; Li, Aigen; Gao, Jian On the silicate crystallinities of oxygen-rich evolved stars and their mass-loss rates\n",
      "2017AJ....153..176L 04/2017 Liu, Jiaming; Jiang, Biwei On the Relation of Silicates and SiO Maser in Evolved Stars\n",
      "2017AJ....153....5J 01/2017 Jian, Mingjie; Gao, Shuang; Zhao, He; Jiang, Biwei Revision of Stellar Intrinsic Colors in the Infrared by Spectroscopic Surveys\n",
      "2016ApJ...825...68M 07/2016 Mishra, Ajay; Li, Aigen; Jiang, B. W. On the Relation between the Mysterious 21 mum Emission Feature of Post-asymptotic Giant Branch Stars and Their Mass-loss Rates\n",
      "2016ApJS..224...23X 06/2016 Xue, Mengyao; Jiang, B. W.; Gao, Jian; Liu, Jiaming; Wang, Shu; Li, Aigen A Precise Determination of the Mid-infrared Interstellar Extinction Law Based on the APOGEE Spectroscopic Survey\n",
      "2016AJ....151..146C 06/2016 Chen, Rui; Luo, Ali; Liu, Jiaming; Jiang, Biwei A Systematic Search for the Spectra with Features of Crystalline Silicates in the Spitzer IRS Enhanced Products\n",
      "2016ApJS..224...23X:\n",
      "2016A&A...595A..98A 11/2016 http://adsabs.harvard.edu/abs/2016A&A...595A..98A\n",
      "2015MNRAS.454..569W:\n",
      "2016AcA....66..469K 12/2016 http://adsabs.harvard.edu/abs/2016AcA....66..469K\n",
      "2016P&SS..133....1K 11/2016 http://adsabs.harvard.edu/abs/2016P&SS..133....1K\n",
      "2016ApJS..224...23X 06/2016 http://adsabs.harvard.edu/abs/2016ApJS..224...23X\n",
      "2016MNRAS.455.4373D 02/2016 http://adsabs.harvard.edu/abs/2016MNRAS.455.4373D\n",
      "2015ApJ...811...38W 09/2015 http://adsabs.harvard.edu/abs/2015ApJ...811...38W\n",
      "2015ApJ...811...38W:\n",
      "2016Ap.....59..548G 12/2016 http://adsabs.harvard.edu/abs/2016Ap.....59..548G\n",
      "2016AstL...42..445G 07/2016 http://adsabs.harvard.edu/abs/2016AstL...42..445G\n",
      "2016ApJS..224...23X 06/2016 http://adsabs.harvard.edu/abs/2016ApJS..224...23X\n",
      "2016MNRAS.458.2553A 05/2016 http://adsabs.harvard.edu/abs/2016MNRAS.458.2553A\n",
      "2016MNRAS.458.2553A needs to be downloaded manually\n",
      "2016MNRAS.455.4373D 02/2016 http://adsabs.harvard.edu/abs/2016MNRAS.455.4373D\n",
      "2015MNRAS.454..569W 11/2015 http://adsabs.harvard.edu/abs/2015MNRAS.454..569W\n",
      "2015arXiv150706604L:\n",
      "2016MNRAS.458..772Z 05/2016 http://adsabs.harvard.edu/abs/2016MNRAS.458..772Z\n",
      "2015ApJ...807L..26G:\n",
      "2016MNRAS.457.1000S 03/2016 http://adsabs.harvard.edu/abs/2016MNRAS.457.1000S\n",
      "2016MNRAS.457..525G 03/2016 http://adsabs.harvard.edu/abs/2016MNRAS.457..525G\n",
      "2016ApJ...816...57M 01/2016 http://adsabs.harvard.edu/abs/2016ApJ...816...57M\n",
      "2015ApJ...802...39M:\n",
      "2016ApJ...825...68M 07/2016 http://adsabs.harvard.edu/abs/2016ApJ...825...68M\n",
      "2014MNRAS.443.1192C:\n",
      "2016MNRAS.463.3604H 12/2016 http://adsabs.harvard.edu/abs/2016MNRAS.463.3604H\n",
      "2016Ap.....59..548G 12/2016 http://adsabs.harvard.edu/abs/2016Ap.....59..548G\n",
      "2016MNRAS.463..811O 11/2016 http://adsabs.harvard.edu/abs/2016MNRAS.463..811O\n",
      "2016PhDT.......248C 09/2016 http://adsabs.harvard.edu/abs/2016PhDT.......248C\n",
      "2016MNRAS.460.3179W 08/2016 http://adsabs.harvard.edu/abs/2016MNRAS.460.3179W\n",
      "2016RAA....16..107B 07/2016 http://adsabs.harvard.edu/abs/2016RAA....16..107B\n",
      "2016ApJS..224...23X 06/2016 http://adsabs.harvard.edu/abs/2016ApJS..224...23X\n",
      "2015MNRAS.454.2863H 12/2015 http://adsabs.harvard.edu/abs/2015MNRAS.454.2863H\n",
      "2015ApJ...810...25G 09/2015 http://adsabs.harvard.edu/abs/2015ApJ...810...25G\n",
      "2015RAA....15.1294Z 08/2015 http://adsabs.harvard.edu/abs/2015RAA....15.1294Z\n",
      "2015RAA....15.1209X 08/2015 http://adsabs.harvard.edu/abs/2015RAA....15.1209X\n",
      "2015RAA....15.1137L 08/2015 http://adsabs.harvard.edu/abs/2015RAA....15.1137L\n",
      "2015A&A...580A..23P 08/2015 http://adsabs.harvard.edu/abs/2015A&A...580A..23P\n",
      "2015RAA....15..860Y 06/2015 http://adsabs.harvard.edu/abs/2015RAA....15..860Y\n",
      "2015MNRAS.450..743R 06/2015 http://adsabs.harvard.edu/abs/2015MNRAS.450..743R\n",
      "2015A&A...577A.142M 05/2015 http://adsabs.harvard.edu/abs/2015A&A...577A.142M\n",
      "2015A&A...577A..77S 05/2015 http://adsabs.harvard.edu/abs/2015A&A...577A..77S\n",
      "2015MNRAS.448.2187C 04/2015 http://adsabs.harvard.edu/abs/2015MNRAS.448.2187C\n",
      "2015ApJ...803...13Y 04/2015 http://adsabs.harvard.edu/abs/2015ApJ...803...13Y\n",
      "2015MNRAS.448..855Y 03/2015 http://adsabs.harvard.edu/abs/2015MNRAS.448..855Y\n",
      "2015MNRAS.448..822X 03/2015 http://adsabs.harvard.edu/abs/2015MNRAS.448..822X\n",
      "2015MNRAS.448...90X 03/2015 http://adsabs.harvard.edu/abs/2015MNRAS.448...90X\n",
      "2015ApJ...801..105X 03/2015 http://adsabs.harvard.edu/abs/2015ApJ...801..105X\n",
      "2015ApJ...799..134Y 02/2015 http://adsabs.harvard.edu/abs/2015ApJ...799..134Y\n",
      "2015ApJ...799..133Y 02/2015 http://adsabs.harvard.edu/abs/2015ApJ...799..133Y\n",
      "2015ApJ...799..116S 02/2015 http://adsabs.harvard.edu/abs/2015ApJ...799..116S\n",
      "2014ApJ...788L..12W:\n",
      "2016ApJS..224...23X 06/2016 http://adsabs.harvard.edu/abs/2016ApJS..224...23X\n",
      "2016A&A...589A..69D 05/2016 http://adsabs.harvard.edu/abs/2016A&A...589A..69D\n",
      "2016ApJ...821...78S 04/2016 http://adsabs.harvard.edu/abs/2016ApJ...821...78S\n",
      "2016A&A...585A..78J 01/2016 http://adsabs.harvard.edu/abs/2016A&A...585A..78J\n",
      "2016A&A...585A..38J 01/2016 http://adsabs.harvard.edu/abs/2016A&A...585A..38J\n",
      "2015A&A...584A..93J 12/2015 http://adsabs.harvard.edu/abs/2015A&A...584A..93J\n",
      "2015ApJS..219...21Z 08/2015 http://adsabs.harvard.edu/abs/2015ApJS..219...21Z\n",
      "2015ApJ...809..120M 08/2015 http://adsabs.harvard.edu/abs/2015ApJ...809..120M\n",
      "2015A&A...577A..77S 05/2015 http://adsabs.harvard.edu/abs/2015A&A...577A..77S\n",
      "2015A&A...575A..10D 03/2015 http://adsabs.harvard.edu/abs/2015A&A...575A..10D\n",
      "2014IAUS..297..219J:\n",
      "2015MNRAS.452.4070O 10/2015 http://adsabs.harvard.edu/abs/2015MNRAS.452.4070O\n",
      "2013ApJ...777..111L:\n",
      "2016ApJ...825...68M 07/2016 http://adsabs.harvard.edu/abs/2016ApJ...825...68M\n",
      "2016ARep...60..344K 03/2016 http://adsabs.harvard.edu/abs/2016ARep...60..344K\n",
      "2015MNRAS.449.2250K 05/2015 http://adsabs.harvard.edu/abs/2015MNRAS.449.2250K\n",
      "2015MNRAS.449.2250K needs to be downloaded manually\n",
      "2015ApJ...802...39M 03/2015 http://adsabs.harvard.edu/abs/2015ApJ...802...39M\n",
      "2015ApJ...801..110P 03/2015 http://adsabs.harvard.edu/abs/2015ApJ...801..110P\n",
      "2013ApJ...776....7G:\n",
      "2016Ap.....59..548G 12/2016 http://adsabs.harvard.edu/abs/2016Ap.....59..548G\n",
      "2016MNRAS.460..383P 07/2016 http://adsabs.harvard.edu/abs/2016MNRAS.460..383P\n",
      "2016AstL...42..445G 07/2016 http://adsabs.harvard.edu/abs/2016AstL...42..445G\n",
      "2016ApJS..224...23X 06/2016 http://adsabs.harvard.edu/abs/2016ApJS..224...23X\n",
      "2016ApJS..224...21R 06/2016 http://adsabs.harvard.edu/abs/2016ApJS..224...21R\n",
      "2016A&A...590A..50P 05/2016 http://adsabs.harvard.edu/abs/2016A&A...590A..50P\n",
      "2015MNRAS.454..839P 11/2015 http://adsabs.harvard.edu/abs/2015MNRAS.454..839P\n",
      "2015MNRAS.450..552P 06/2015 http://adsabs.harvard.edu/abs/2015MNRAS.450..552P\n",
      "2013ApJ...773...30W:\n",
      "2016Ap.....59..548G 12/2016 http://adsabs.harvard.edu/abs/2016Ap.....59..548G\n",
      "2016AstL...42..445G 07/2016 http://adsabs.harvard.edu/abs/2016AstL...42..445G\n",
      "2016ApJS..224...23X 06/2016 http://adsabs.harvard.edu/abs/2016ApJS..224...23X\n",
      "2016MNRAS.455.4373D 02/2016 http://adsabs.harvard.edu/abs/2016MNRAS.455.4373D\n",
      "2015MNRAS.454..569W 11/2015 http://adsabs.harvard.edu/abs/2015MNRAS.454..569W\n",
      "2015ApJ...811...38W 09/2015 http://adsabs.harvard.edu/abs/2015ApJ...811...38W\n",
      "2015ApJ...809..120M 08/2015 http://adsabs.harvard.edu/abs/2015ApJ...809..120M\n",
      "2013RAA....13..290C:\n",
      "2016AcA....66..131S 06/2016 http://adsabs.harvard.edu/abs/2016AcA....66..131S\n",
      "2013ApJ...765...72J:\n",
      "2016P&SS..133....7K 11/2016 http://adsabs.harvard.edu/abs/2016P&SS..133....7K\n",
      "2016AJ....151..146C 06/2016 http://adsabs.harvard.edu/abs/2016AJ....151..146C\n",
      "2016MNRAS.457.1593W 04/2016 http://adsabs.harvard.edu/abs/2016MNRAS.457.1593W\n",
      "2016ApJ...818...51N 02/2016 http://adsabs.harvard.edu/abs/2016ApJ...818...51N\n",
      "2012ApJ...754...35Y:\n",
      "2016JAVSO..44...94P 12/2016 http://adsabs.harvard.edu/abs/2016JAVSO..44...94P\n",
      "2016A&A...596A..24B 11/2016 http://adsabs.harvard.edu/abs/2016A&A...596A..24B\n",
      "2016A&A...592A..16D 07/2016 http://adsabs.harvard.edu/abs/2016A&A...592A..16D\n",
      "2016A&A...588A.130M 04/2016 http://adsabs.harvard.edu/abs/2016A&A...588A.130M\n",
      "2015MNRAS.451.3504R 08/2015 http://adsabs.harvard.edu/abs/2015MNRAS.451.3504R\n",
      "2015A&A...578A...3G 06/2015 http://adsabs.harvard.edu/abs/2015A&A...578A...3G\n"
     ]
    },
    {
     "name": "stdout",
     "output_type": "stream",
     "text": [
      "2012SSPMA..42..877L:\n",
      "2016ApJ...825...68M 07/2016 http://adsabs.harvard.edu/abs/2016ApJ...825...68M\n",
      "2011ApJ...742..120J:\n",
      "2016AN....337..783M 09/2016 http://adsabs.harvard.edu/abs/2016AN....337..783M\n",
      "2015ApJ...803...49Q 04/2015 http://adsabs.harvard.edu/abs/2015ApJ...803...49Q\n",
      "2011ApJ...727...53Y:\n",
      "2016A&A...592A..16D 07/2016 http://adsabs.harvard.edu/abs/2016A&A...592A..16D\n",
      "2015MNRAS.454.1468K 12/2015 http://adsabs.harvard.edu/abs/2015MNRAS.454.1468K\n",
      "2010ApJ...713L.182S:\n",
      "2016ApJ...832..133S 12/2016 http://adsabs.harvard.edu/abs/2016ApJ...832..133S\n",
      "2016AN....337..783M 09/2016 http://adsabs.harvard.edu/abs/2016AN....337..783M\n",
      "2016MNRAS.457.1851R 04/2016 http://adsabs.harvard.edu/abs/2016MNRAS.457.1851R\n",
      "2016MNRAS.457.1851R needs to be downloaded manually\n",
      "2016A&A...588A..87V 04/2016 http://adsabs.harvard.edu/abs/2016A&A...588A..87V\n",
      "2016Ap&SS.361...23F 01/2016 http://adsabs.harvard.edu/abs/2016Ap&SS.361...23F\n",
      "2015JApA...36...33J 03/2015 http://adsabs.harvard.edu/abs/2015JApA...36...33J\n",
      "2010PASP..122..314M:\n",
      "2016MNRAS.463.2653D 12/2016 http://adsabs.harvard.edu/abs/2016MNRAS.463.2653D\n",
      "2016ApJ...833...24K 12/2016 http://adsabs.harvard.edu/abs/2016ApJ...833...24K\n",
      "2016ApJ...832..143F 12/2016 http://adsabs.harvard.edu/abs/2016ApJ...832..143F\n",
      "2016MNRAS.462.3123R 11/2016 http://adsabs.harvard.edu/abs/2016MNRAS.462.3123R\n",
      "2016AJ....152..146N 11/2016 http://adsabs.harvard.edu/abs/2016AJ....152..146N\n",
      "2016A&A...594A..58O 10/2016 http://adsabs.harvard.edu/abs/2016A&A...594A..58O\n",
      "2016MNRAS.461L..16M 09/2016 http://adsabs.harvard.edu/abs/2016MNRAS.461L..16M\n",
      "2016MNRAS.461.2288H 09/2016 http://adsabs.harvard.edu/abs/2016MNRAS.461.2288H\n",
      "2016MNRAS.461.1328E 09/2016 http://adsabs.harvard.edu/abs/2016MNRAS.461.1328E\n",
      "2016ApJS..226....9W 09/2016 http://adsabs.harvard.edu/abs/2016ApJS..226....9W\n",
      "2016ApJ...829L..19L 09/2016 http://adsabs.harvard.edu/abs/2016ApJ...829L..19L\n",
      "2016ApJ...827...96F 08/2016 http://adsabs.harvard.edu/abs/2016ApJ...827...96F\n",
      "2016PASA...33...30R 07/2016 http://adsabs.harvard.edu/abs/2016PASA...33...30R\n",
      "2016MNRAS.459.4224C 07/2016 http://adsabs.harvard.edu/abs/2016MNRAS.459.4224C\n",
      "2016ApJ...825..142K 07/2016 http://adsabs.harvard.edu/abs/2016ApJ...825..142K\n",
      "2016A&A...591A.149M 07/2016 http://adsabs.harvard.edu/abs/2016A&A...591A.149M\n",
      "2016A&A...591A.105Z 06/2016 http://adsabs.harvard.edu/abs/2016A&A...591A.105Z\n",
      "2016A&A...591A...5L 06/2016 http://adsabs.harvard.edu/abs/2016A&A...591A...5L\n",
      "2016ApJ...822...59S 05/2016 http://adsabs.harvard.edu/abs/2016ApJ...822...59S\n",
      "2016MNRAS.457.4536W 04/2016 http://adsabs.harvard.edu/abs/2016MNRAS.457.4536W\n",
      "2016MNRAS.457.2675H 04/2016 http://adsabs.harvard.edu/abs/2016MNRAS.457.2675H\n",
      "2016ApJ...821...20K 04/2016 http://adsabs.harvard.edu/abs/2016ApJ...821...20K\n",
      "2016A&A...588L...5C 04/2016 http://adsabs.harvard.edu/abs/2016A&A...588L...5C\n",
      "2016MNRAS.456.2885R 03/2016 http://adsabs.harvard.edu/abs/2016MNRAS.456.2885R\n",
      "2016MNRAS.456.2425V 03/2016 http://adsabs.harvard.edu/abs/2016MNRAS.456.2425V\n",
      "2016MNRAS.456.2406R 03/2016 http://adsabs.harvard.edu/abs/2016MNRAS.456.2406R\n",
      "2016ApJ...820...37Y 03/2016 http://adsabs.harvard.edu/abs/2016ApJ...820...37Y\n",
      "2016ApJ...819..139B 03/2016 http://adsabs.harvard.edu/abs/2016ApJ...819..139B\n",
      "2016MNRAS.456.2041C 02/2016 http://adsabs.harvard.edu/abs/2016MNRAS.456.2041C\n",
      "2016MNRAS.455.3494W 02/2016 http://adsabs.harvard.edu/abs/2016MNRAS.455.3494W\n",
      "2016ApJ...818...71W 02/2016 http://adsabs.harvard.edu/abs/2016ApJ...818...71W\n",
      "2016A&A...585A.149W 01/2016 http://adsabs.harvard.edu/abs/2016A&A...585A.149W\n",
      "2016A&A...585A..71M 01/2016 http://adsabs.harvard.edu/abs/2016A&A...585A..71M\n",
      "2015PASA...32...47T 12/2015 http://adsabs.harvard.edu/abs/2015PASA...32...47T\n",
      "2015MNRAS.454.4282M 12/2015 http://adsabs.harvard.edu/abs/2015MNRAS.454.4282M\n",
      "2015MNRAS.454.2586F 12/2015 http://adsabs.harvard.edu/abs/2015MNRAS.454.2586F\n",
      "2015MNRAS.454.2486S 12/2015 http://adsabs.harvard.edu/abs/2015MNRAS.454.2486S\n",
      "2015ApJ...815..130G 12/2015 http://adsabs.harvard.edu/abs/2015ApJ...815..130G\n",
      "2015MNRAS.454..902U 11/2015 http://adsabs.harvard.edu/abs/2015MNRAS.454..902U\n",
      "2015MNRAS.454..626H 11/2015 http://adsabs.harvard.edu/abs/2015MNRAS.454..626H\n",
      "2015MNRAS.453.4264M 11/2015 http://adsabs.harvard.edu/abs/2015MNRAS.453.4264M\n",
      "2015ApJS..221...10A 11/2015 http://adsabs.harvard.edu/abs/2015ApJS..221...10A\n",
      "2015A&A...583A.125O 11/2015 http://adsabs.harvard.edu/abs/2015A&A...583A.125O\n",
      "2015PASA...32...37H 10/2015 http://adsabs.harvard.edu/abs/2015PASA...32...37H\n",
      "2015A&A...582A...1D 10/2015 http://adsabs.harvard.edu/abs/2015A&A...582A...1D\n",
      "2015MNRAS.452.1523Y 09/2015 http://adsabs.harvard.edu/abs/2015MNRAS.452.1523Y\n",
      "2015MNRAS.452..289E 09/2015 http://adsabs.harvard.edu/abs/2015MNRAS.452..289E\n",
      "2015ApJ...811...38W 09/2015 http://adsabs.harvard.edu/abs/2015ApJ...811...38W\n",
      "2015A&A...581A.124C 09/2015 http://adsabs.harvard.edu/abs/2015A&A...581A.124C\n",
      "2015A&A...581A..74A 09/2015 http://adsabs.harvard.edu/abs/2015A&A...581A..74A\n",
      "2015MNRAS.451.3089T 08/2015 http://adsabs.harvard.edu/abs/2015MNRAS.451.3089T\n",
      "2015MNRAS.450.4043W 07/2015 http://adsabs.harvard.edu/abs/2015MNRAS.450.4043W\n",
      "2015MNRAS.450.3458C 07/2015 http://adsabs.harvard.edu/abs/2015MNRAS.450.3458C\n",
      "2015A&A...579A..91W 07/2015 http://adsabs.harvard.edu/abs/2015A&A...579A..91W\n",
      "2015A&A...579A..71C 07/2015 http://adsabs.harvard.edu/abs/2015A&A...579A..71C\n",
      "2015ApJ...805..157E 06/2015 http://adsabs.harvard.edu/abs/2015ApJ...805..157E\n",
      "2015A&A...578A.108V 06/2015 http://adsabs.harvard.edu/abs/2015A&A...578A.108V\n",
      "2015MNRAS.449.2784O 05/2015 http://adsabs.harvard.edu/abs/2015MNRAS.449.2784O\n",
      "2015MNRAS.449..715W 05/2015 http://adsabs.harvard.edu/abs/2015MNRAS.449..715W\n",
      "2015ApJS..218....1M 05/2015 http://adsabs.harvard.edu/abs/2015ApJS..218....1M\n",
      "2015A&A...577A..30A 05/2015 http://adsabs.harvard.edu/abs/2015A&A...577A..30A\n",
      "2015MNRAS.447.2307M 03/2015 http://adsabs.harvard.edu/abs/2015MNRAS.447.2307M\n",
      "2015ApJ...801..111B 03/2015 http://adsabs.harvard.edu/abs/2015ApJ...801..111B\n",
      "2015MNRAS.446.3461U 02/2015 http://adsabs.harvard.edu/abs/2015MNRAS.446.3461U\n",
      "2015A&A...574A.119T 02/2015 http://adsabs.harvard.edu/abs/2015A&A...574A.119T\n",
      "2009ApJ...707...89G:\n",
      "2016MNRAS.463.3604H 12/2016 http://adsabs.harvard.edu/abs/2016MNRAS.463.3604H\n",
      "2016Ap.....59..548G 12/2016 http://adsabs.harvard.edu/abs/2016Ap.....59..548G\n",
      "2016AstL...42..445G 07/2016 http://adsabs.harvard.edu/abs/2016AstL...42..445G\n",
      "2016PASA...33...24N 06/2016 http://adsabs.harvard.edu/abs/2016PASA...33...24N\n",
      "2016ApJS..224...23X 06/2016 http://adsabs.harvard.edu/abs/2016ApJS..224...23X\n",
      "2016AJ....151...55V 03/2016 http://adsabs.harvard.edu/abs/2016AJ....151...55V\n",
      "2016MNRAS.455.4373D 02/2016 http://adsabs.harvard.edu/abs/2016MNRAS.455.4373D\n",
      "2015MNRAS.454..569W 11/2015 http://adsabs.harvard.edu/abs/2015MNRAS.454..569W\n",
      "2015ApJ...811...38W 09/2015 http://adsabs.harvard.edu/abs/2015ApJ...811...38W\n",
      "2015MNRAS.451..167F 07/2015 http://adsabs.harvard.edu/abs/2015MNRAS.451..167F\n",
      "2015A&A...579A..76J 07/2015 http://adsabs.harvard.edu/abs/2015A&A...579A..76J\n",
      "2015A&A...577A..77S 05/2015 http://adsabs.harvard.edu/abs/2015A&A...577A..77S\n",
      "2009ApJ...702..680Z:\n",
      "2016ApJ...826...44S 07/2016 http://adsabs.harvard.edu/abs/2016ApJ...826...44S\n",
      "2016ApJ...825...68M 07/2016 http://adsabs.harvard.edu/abs/2016ApJ...825...68M\n",
      "2016A&ARv..24....8K 02/2016 http://adsabs.harvard.edu/abs/2016A&ARv..24....8K\n",
      "2015MNRAS.452.4070O 10/2015 http://adsabs.harvard.edu/abs/2015MNRAS.452.4070O\n",
      "2015PKAS...30..283K 09/2015 http://adsabs.harvard.edu/abs/2015PKAS...30..283K\n",
      "2015MNRAS.451.3504R 08/2015 http://adsabs.harvard.edu/abs/2015MNRAS.451.3504R\n",
      "2015ApJ...802...39M 03/2015 http://adsabs.harvard.edu/abs/2015ApJ...802...39M\n",
      "2009MNRAS.396.1247Z:\n",
      "2016ApJ...825...68M 07/2016 http://adsabs.harvard.edu/abs/2016ApJ...825...68M\n",
      "2015MNRAS.451.3371F 08/2015 http://adsabs.harvard.edu/abs/2015MNRAS.451.3371F\n",
      "2015ApJ...809..120M 08/2015 http://adsabs.harvard.edu/abs/2015ApJ...809..120M\n",
      "2015ApJ...802...39M 03/2015 http://adsabs.harvard.edu/abs/2015ApJ...802...39M\n",
      "2008ScChG..51.1187Z:\n",
      "2016ApJ...825...68M 07/2016 http://adsabs.harvard.edu/abs/2016ApJ...825...68M\n",
      "2015MNRAS.447.3909R 03/2015 http://adsabs.harvard.edu/abs/2015MNRAS.447.3909R\n",
      "2015ApJ...802...39M 03/2015 http://adsabs.harvard.edu/abs/2015ApJ...802...39M\n"
     ]
    },
    {
     "name": "stdout",
     "output_type": "stream",
     "text": [
      "2005ApJ...630L..77J:\n",
      "2016ApJ...825...68M 07/2016 http://adsabs.harvard.edu/abs/2016ApJ...825...68M\n",
      "2015ApJ...802...39M 03/2015 http://adsabs.harvard.edu/abs/2015ApJ...802...39M\n",
      "2000PASJ...52..275N:\n",
      "2016ApJ...825...16N 07/2016 http://adsabs.harvard.edu/abs/2016ApJ...825...16N\n",
      "1996ApJS..106..463J:\n",
      "2016ApJ...819...61S 03/2016 http://adsabs.harvard.edu/abs/2016ApJ...819...61S\n",
      "There are 7 papers published from 01/01/2016 to 31/08/2017\n",
      "There are 146 citations to published papers from 01/01/2015 to 31/12/2016\n"
     ]
    }
   ],
   "source": [
    "run ppct"
   ]
  },
  {
   "cell_type": "code",
   "execution_count": 114,
   "metadata": {
    "scrolled": true
   },
   "outputs": [
    {
     "name": "stdout",
     "output_type": "stream",
     "text": [
      "2017ApJ...840...27S 05/2017 Shao, Zhenzhen; Jiang, B. W.; Li, Aigen On the Optical-to-silicate Extinction Ratio as a Probe of the Dust Size in Active Galactic Nuclei\n",
      "2017MNRAS.466.1963L 04/2017 Liu, Jiaming; Jiang, B. W.; Li, Aigen; Gao, Jian On the silicate crystallinities of oxygen-rich evolved stars and their mass-loss rates\n",
      "2017AJ....153..176L 04/2017 Liu, Jiaming; Jiang, Biwei On the Relation of Silicates and SiO Maser in Evolved Stars\n",
      "2017AJ....153....5J 01/2017 Jian, Mingjie; Gao, Shuang; Zhao, He; Jiang, Biwei Revision of Stellar Intrinsic Colors in the Infrared by Spectroscopic Surveys\n",
      "2016ApJ...825...68M 07/2016 Mishra, Ajay; Li, Aigen; Jiang, B. W. On the Relation between the Mysterious 21 mum Emission Feature of Post-asymptotic Giant Branch Stars and Their Mass-loss Rates\n",
      "2016ApJS..224...23X 06/2016 Xue, Mengyao; Jiang, B. W.; Gao, Jian; Liu, Jiaming; Wang, Shu; Li, Aigen A Precise Determination of the Mid-infrared Interstellar Extinction Law Based on the APOGEE Spectroscopic Survey\n",
      "2016AJ....151..146C 06/2016 Chen, Rui; Luo, Ali; Liu, Jiaming; Jiang, Biwei A Systematic Search for the Spectra with Features of Crystalline Silicates in the Spitzer IRS Enhanced Products\n",
      "There are 7 papers published from 01/01/2016 to 31/08/2017\n",
      "7 pdf have been downloaded\n"
     ]
    }
   ],
   "source": [
    "run Pub"
   ]
  },
  {
   "cell_type": "code",
   "execution_count": null,
   "metadata": {
    "collapsed": true
   },
   "outputs": [],
   "source": [
    "run Cite"
   ]
  },
  {
   "cell_type": "code",
   "execution_count": 2,
   "metadata": {
    "collapsed": true
   },
   "outputs": [],
   "source": [
    "import requests\n",
    "downloadUrl='http://adsabs.harvard.edu/cgi-bin/nph-data_query?bibcode={0}&db_key=AST&link_type=ARTICLE'.format(\"2016P&SS..133....1K\")\n",
    "r = requests.get(downloadUrl)"
   ]
  },
  {
   "cell_type": "code",
   "execution_count": 10,
   "metadata": {},
   "outputs": [
    {
     "name": "stdout",
     "output_type": "stream",
     "text": [
      "fagfa\n"
     ]
    }
   ],
   "source": [
    "try:\n",
    "    r.raise_for_status()\n",
    "except Exception:# no PDF from ads\n",
    "    print('fagfa')"
   ]
  },
  {
   "cell_type": "code",
   "execution_count": 135,
   "metadata": {
    "collapsed": true
   },
   "outputs": [],
   "source": [
    "r = requests.get(downloadUrl)"
   ]
  },
  {
   "cell_type": "code",
   "execution_count": null,
   "metadata": {
    "collapsed": true
   },
   "outputs": [],
   "source": [
    "https://arxiv.org/pdf/1701.01431"
   ]
  },
  {
   "cell_type": "code",
   "execution_count": 6,
   "metadata": {
    "collapsed": true
   },
   "outputs": [],
   "source": [
    "def arxivUrl(citeBibcode):\n",
    "    arx = True\n",
    "    resArxiv=requests.get('http://adsabs.harvard.edu/cgi-bin/nph-data_query?bibcode={0}&db_key=AST&link_type=PREPRINT'.format(citeBibcode))\n",
    "    try:\n",
    "        resArxiv.raise_for_status() \n",
    "    except Exception:\n",
    "        print('PDF of {0} needs be downloaded manually'.format(citeBibcode))\n",
    "        arx = False\n",
    "        return arx\n",
    "    else:\n",
    "        arxivPage = bs4.BeautifulSoup(resArxiv.text,'lxml')\n",
    "        arxivre=re.compile(r'(arXiv:)(\\d+.\\d+)')\n",
    "        arxivNum=arxivre.search(arxivPage.select('body h1')[0].getText()).group(2)\n",
    "        downloadUrl='https://arxiv.org/pdf/{0}'.format(arxivNum)\n",
    "        return downloadUrl\n"
   ]
  },
  {
   "cell_type": "code",
   "execution_count": 7,
   "metadata": {
    "collapsed": true
   },
   "outputs": [],
   "source": [
    "bibcodeRe = re.compile(r'(\\d\\d\\d\\d)(\\w+)')\n",
    "journal=bibcodeRe.search(\"2016MNRAS.455.4373D\").group(2)"
   ]
  },
  {
   "cell_type": "code",
   "execution_count": 9,
   "metadata": {},
   "outputs": [
    {
     "data": {
      "text/plain": [
       "True"
      ]
     },
     "execution_count": 9,
     "metadata": {},
     "output_type": "execute_result"
    }
   ],
   "source": [
    "journal=='MNRAS'"
   ]
  },
  {
   "cell_type": "code",
   "execution_count": 10,
   "metadata": {
    "collapsed": true
   },
   "outputs": [],
   "source": [
    "downloadUrl=arxivUrl(\"2016MNRAS.455.4373D\")"
   ]
  },
  {
   "cell_type": "code",
   "execution_count": 11,
   "metadata": {},
   "outputs": [
    {
     "data": {
      "text/plain": [
       "False"
      ]
     },
     "execution_count": 11,
     "metadata": {},
     "output_type": "execute_result"
    }
   ],
   "source": [
    "downloadUrl==False"
   ]
  },
  {
   "cell_type": "code",
   "execution_count": 12,
   "metadata": {
    "collapsed": true
   },
   "outputs": [],
   "source": [
    "r = requests.get(downloadUrl)"
   ]
  },
  {
   "cell_type": "code",
   "execution_count": 13,
   "metadata": {
    "collapsed": true
   },
   "outputs": [],
   "source": [
    "try:\n",
    "    r.raise_for_status()\n",
    "except Exception: #no pdf from arxiv or ads\n",
    "    print('PDF of {0} needs be downloaded manually'.format(citeBibcode))"
   ]
  },
  {
   "cell_type": "code",
   "execution_count": 20,
   "metadata": {
    "collapsed": true
   },
   "outputs": [],
   "source": [
    "with open('.//Citations_Jiang//{0}//{1}.pdf'.format(bibcode,'2016MNRAS.455.4373D'),'wb') as code:\n",
    "    code.write(r.content)"
   ]
  },
  {
   "cell_type": "code",
   "execution_count": 18,
   "metadata": {
    "collapsed": true
   },
   "outputs": [],
   "source": [
    "bibcode='2015MNRAS.454..569W'"
   ]
  },
  {
   "cell_type": "code",
   "execution_count": 33,
   "metadata": {
    "collapsed": true
   },
   "outputs": [],
   "source": [
    "with open('{0}.pdf'.format(bibcode),'wb') as code:\n",
    "    code.write(r.content)"
   ]
  },
  {
   "cell_type": "code",
   "execution_count": null,
   "metadata": {
    "collapsed": true
   },
   "outputs": [],
   "source": [
    "pdfFile = open('{0}.pdf'.format(bibcode), 'rb')\n",
    "            #pdfReader = PyPDF2.PdfFileReader(pdfFile)"
   ]
  },
  {
   "cell_type": "code",
   "execution_count": 8,
   "metadata": {
    "scrolled": false
   },
   "outputs": [
    {
     "name": "stdout",
     "output_type": "stream",
     "text": [
      "Downloading 2017ApJ...840...27S\n",
      "Downloading 2017MNRAS.466.1963L\n",
      "Downloading 2017AJ....153..176L\n",
      "Downloading 2017AJ....153....5J\n",
      "Downloading 2016ApJ...825...68M\n",
      "Downloading 2016ApJS..224...23X\n",
      "Downloading 2016AJ....151..146C\n"
     ]
    }
   ],
   "source": [
    "for i in range(len(titles)):\n",
    "    bibcode = titles[i].getText()\n",
    "    date = dates[i].getText()\n",
    "    if date[0:2] == '00':\n",
    "        date = '01'+date[2:]\n",
    "    pubTime = datetime.strptime(date,'%m/%Y')\n",
    "    if pubTime>startTime and pubTime<endTime:\n",
    "        print('Downloading {0}'.format(bibcode))"
   ]
  },
  {
   "cell_type": "code",
   "execution_count": 71,
   "metadata": {},
   "outputs": [
    {
     "data": {
      "text/plain": [
       "<td align=\"left\" colspan=\"3\" valign=\"top\">On the Optical-to-silicate Extinction Ratio as a Probe of the Dust Size in Active Galactic Nuclei</td>"
      ]
     },
     "execution_count": 71,
     "metadata": {},
     "output_type": "execute_result"
    }
   ],
   "source": [
    "Titles[0]"
   ]
  },
  {
   "cell_type": "code",
   "execution_count": null,
   "metadata": {
    "collapsed": true
   },
   "outputs": [],
   "source": []
  }
 ],
 "metadata": {
  "kernelspec": {
   "display_name": "Python 3",
   "language": "python",
   "name": "python3"
  },
  "language_info": {
   "codemirror_mode": {
    "name": "ipython",
    "version": 3
   },
   "file_extension": ".py",
   "mimetype": "text/x-python",
   "name": "python",
   "nbconvert_exporter": "python",
   "pygments_lexer": "ipython3",
   "version": "3.6.1"
  }
 },
 "nbformat": 4,
 "nbformat_minor": 2
}
