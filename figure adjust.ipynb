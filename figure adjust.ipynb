{
 "cells": [
  {
   "cell_type": "code",
   "execution_count": 6,
   "metadata": {},
   "outputs": [
    {
     "name": "stdout",
     "output_type": "stream",
     "text": [
      "e:\\BNUCloud\\work\\git\\Scripts\\snr14\n"
     ]
    }
   ],
   "source": [
    "cd e:/BNUCloud/work/git/Scripts/snr14/"
   ]
  },
  {
   "cell_type": "code",
   "execution_count": null,
   "metadata": {
    "collapsed": true
   },
   "outputs": [],
   "source": [
    "from dis_ext import *"
   ]
  },
  {
   "cell_type": "code",
   "execution_count": 3,
   "metadata": {
    "collapsed": true
   },
   "outputs": [],
   "source": [
    "import _pickle\n",
    "import matplotlib\n",
    "import numpy.ma as ma\n",
    "from pandas import  Series, DataFrame\n",
    "import pandas as pd\n",
    "import matplotlib.ticker as ticker\n",
    "import matplotlib.gridspec as gs\n",
    "from astropy.io import fits\n",
    "from os.path import join as pjoin"
   ]
  },
  {
   "cell_type": "code",
   "execution_count": 141,
   "metadata": {
    "collapsed": true
   },
   "outputs": [],
   "source": [
    "def readfits(name, ext ,dirname = None, picdir = None):\n",
    "    \"\"\"this function can read the fits picture and return its xrange, yrange and imagedata\n",
    "    Args:\n",
    "        name: name of target SNR, eg.'snr169'\n",
    "        ext: a number of the hdulist, where the header is located\n",
    "        dirname: a string representing the dir storing observation data\n",
    "        picdir: a path of the dir storing observation data\n",
    "    Returns:\n",
    "        xranges: 1-d array, range of coordinates in x axis\n",
    "        yranges: 1-d array, range of coordinates in y axis\n",
    "        image_data: 2-d array, may contain nan in it; observation data\n",
    "    \"\"\"\n",
    "    #radio pic path\n",
    "    if dirname == None:\n",
    "        dirname = 'NEW6CM'\n",
    "    if picdir == None:\n",
    "        image_file = pjoin('..', '..', 'Data', 'snrpic', '{0}'.format(dirname), '{0}.fits'.format(name))\n",
    "    else:\n",
    "        image_file = pjoin(picdir, '{0}.fits'.format(name))\n",
    "    #read the fits pic and get the imagedata\n",
    "    hdulist=fits.open(image_file)\n",
    "    nx=hdulist[ext].header['NAXIS1']\n",
    "    ny=hdulist[ext].header['NAXIS2']\n",
    "    dx=hdulist[ext].header['CDELT1']\n",
    "    dy=hdulist[ext].header['CDELT2']\n",
    "    x0=hdulist[ext].header['CRVAL1']\n",
    "    y0=hdulist[ext].header['CRVAL2']\n",
    "    zx=hdulist[ext].header['CRPIX1']\n",
    "    zy=hdulist[ext].header['CRPIX2']\n",
    "    xranges=(np.arange(nx)-zx)*dx+x0\n",
    "    yranges=(np.arange(ny)-zy)*dy+y0 \n",
    "    image_data=fits.getdata(image_file)\n",
    "    #image_data=np.nan_to_num(image_data)\n",
    "    image_data=image_data[ext]\n",
    "    return xranges, yranges, image_data"
   ]
  },
  {
   "cell_type": "code",
   "execution_count": 4,
   "metadata": {},
   "outputs": [],
   "source": [
    "image_file = pjoin('..', '..', 'Data', 'snrpic', '{0}'.format('NEW6CM'), '{0}.fits'.format('snr170'))"
   ]
  },
  {
   "cell_type": "code",
   "execution_count": 7,
   "metadata": {},
   "outputs": [],
   "source": [
    "hdulist=fits.open(image_file)"
   ]
  },
  {
   "cell_type": "code",
   "execution_count": 16,
   "metadata": {},
   "outputs": [
    {
     "name": "stderr",
     "output_type": "stream",
     "text": [
      "WARNING: VerifyWarning: Invalid value for 'BLANK' keyword in header: -999999.0 The 'BLANK' keyword must be an integer.  It will be ignored in the meantime. [astropy.io.fits.hdu.image]\n",
      "WARNING: VerifyWarning: Invalid 'BLANK' keyword in header.  The 'BLANK' keyword is only applicable to integer data, and will be ignored in this HDU. [astropy.io.fits.hdu.image]\n"
     ]
    }
   ],
   "source": [
    "image_data=fits.getdata(image_file)"
   ]
  },
  {
   "cell_type": "code",
   "execution_count": 18,
   "metadata": {},
   "outputs": [
    {
     "data": {
      "text/plain": [
       "(81, 81)"
      ]
     },
     "execution_count": 18,
     "metadata": {},
     "output_type": "execute_result"
    }
   ],
   "source": [
    "image_data.shape"
   ]
  },
  {
   "cell_type": "code",
   "execution_count": 303,
   "metadata": {
    "collapsed": true
   },
   "outputs": [],
   "source": [
    "def readpoints(name, fig, num):\n",
    "    \"\"\"read coordinates of the clouds's border\n",
    "    Args: \n",
    "        name: name of target SNR, eg.'snr169'\n",
    "        fig: a figure object, on which we need to select border\n",
    "        num: int, number of clouds\n",
    "    Return:\n",
    "        points: 2-d array with coordinates in it \n",
    "    \"\"\"\n",
    "    pointsfile_path = pjoin('..', '..', 'Data', 'extin3d', 'results', '{0}_points_{1}.pkl'.format(name, num))\n",
    "    if isfile(pointsfile_path):  #to see if points have been selected\n",
    "        pointsfile = open(pointsfile_path, 'rb')  #if there is a file, load it\n",
    "        points = _pickle.load(pointsfile)\n",
    "        pointsfile.close()\n",
    "    else: #get coordinates from function ginput\n",
    "        points = fig.ginput(n=0, timeout = 0)\n",
    "        #save the points\n",
    "        pointsfile = open(pointsfile_path, 'wb')\n",
    "        _pickle.dump(points, pointsfile, 2)\n",
    "        pointsfile.close()\n",
    "    return points\n",
    "\n",
    "\n"
   ]
  },
  {
   "cell_type": "code",
   "execution_count": 305,
   "metadata": {},
   "outputs": [
    {
     "name": "stdout",
     "output_type": "stream",
     "text": [
      "contour levels: [ 0.66974835  1.00462253  1.3394967   1.67437088  2.00924506  2.34411923\n",
      "  2.67899341] mag/kpc\n"
     ]
    }
   ],
   "source": [
    "def radio_ar(name, ar, realdis, image_data, xr, yr, xgrid, ygrid, perctl, perpc, single,\n",
    "             vr=None, fill = False, Number = None, level = None, lowlev = None, picn = None):\n",
    "    \"\"\"draw contours of 3-d extinction map on diffirent distance ranges with radio picture as background, save as .eps file.\n",
    "    Args:\n",
    "        name: name of target SNR, eg.'snr169'\n",
    "        ar: 1-d array with 2-d array as elements, extinction data loaded from .sav files\n",
    "        realdis: 1-d array, distance of centers of each bin\n",
    "        image_data: 2-d array, may contain nan in it; observation data\n",
    "        xr: 1-d array, range of coordinates in x axis\n",
    "        yr: 1-d array, range of coordinates in y axis\n",
    "        xgrid, ygrid: 1-d arrray, coordinates of centers of every grids\n",
    "        perctl: one num, percentile of image_data \n",
    "        perpc: Boolean value, if True , extinction data will be divided by distance of bin\n",
    "        single: Boolean value, if False, contours will be ploted on all distance, else, only the distance selected\n",
    "        vr: optional, [a,b] specified to adjust vmin and vmax of imshow(), Default is None\n",
    "        fill : optional, Boolean value,  True, contourf; False, contour, Default is False\n",
    "        Number: optional, (a, b), numbers of bins that need to be ploted, Default is (6,13)\n",
    "        levels: optional, number of levels for contour, Default is 10\n",
    "        lowlev: optional, levels could be hidden at head and tail, Default is 2\n",
    "        picn: optional, number of the picture wanted, start from 0, Default is 4, the last ax will be deleted\n",
    "    Returns: \n",
    "    \"\"\"\n",
    "    #默认参数\n",
    "    if Number == None:\n",
    "        Number = (6, 13)\n",
    "    if level == None:\n",
    "        level = 10\n",
    "    if lowlev == None:\n",
    "        lowlev = 2\n",
    "    if picn == None:\n",
    "        picn = 4\n",
    "    #将背景数据转化为DataFrame，并进行整理\n",
    "    ImageFrame = DataFrame(image_data, index=yr, columns=xr)\n",
    "    ImageFrame = ImageFrame.fillna(0)\n",
    "    ImageFrame.index.name = 'b'\n",
    "    ImageFrame.columns.name = 'l'\n",
    "    ImageFrame[ImageFrame<0] = 0.\n",
    "    ImageFrame = ImageFrame/1000\n",
    "\n",
    "    #读取SNR坐标和范围\n",
    "    SNRs = pd.read_csv(pjoin('..', '..', 'Data', 'snrlist.csv'))\n",
    "    SNRs.set_index('codename',inplace=True)\n",
    "    xleft = SNRs.loc[name]['l']+SNRs.loc[name]['size']/60*2.5\n",
    "    xright = SNRs.loc[name]['l']-SNRs.loc[name]['size']/60*2.5\n",
    "    yup = SNRs.loc[name]['b']+SNRs.loc[name]['size']/60*2.5\n",
    "    ydown = SNRs.loc[name]['b']-SNRs.loc[name]['size']/60*2.5\n",
    "    \n",
    "    #整理射电图数据\n",
    "    xi = (xr<xleft) & (xr>xright) \n",
    "    yi = (yr<yup) & (yr>ydown)\n",
    "    ImageFrame = ImageFrame.loc[yi,xi]\n",
    "    extent = [ImageFrame.columns.max(), ImageFrame.columns.min(), ImageFrame.index.min(), ImageFrame.index.max()]\n",
    "    \n",
    "    #整理消光数据\n",
    "    disbins = moddis((dismod(realdis) + 0.25)) - moddis((dismod(realdis) - 0.25))\n",
    "    if perpc == True:\n",
    "        for i in range(len(disbins)):\n",
    "            ar.dar[i] /= disbins[i]\n",
    "    adata = np.vstack(ar.dar)\n",
    "    madata = ma.masked_where(adata<0, adata)\n",
    "    allar = DataFrame(madata, index=[np.repeat(np.arange(len(ar.dar)),len(xgrid)), np.tile(ygrid, len(ar.dar))], columns=xgrid)\n",
    "    allar.index.names = ['cell','gb']\n",
    "    allar.columns.name = 'gl'\n",
    "    xii = (xgrid<xleft) & (xgrid>xright) \n",
    "    yii = (ygrid<yup) & (ygrid>ydown)\n",
    "    zmax = np.percentile(allar.loc[np.tile(yii,16), xii], 98)\n",
    "    levs = zmax / level * np.arange(level+1)\n",
    "    \n",
    "    #绘图\n",
    "    matplotlib.rcdefaults()\n",
    "    if single == False:\n",
    "        p = matplotlib.rcParams\n",
    "        # 配置绘图区域的大小和位置，下面的值是基于图标的宽和高的比例\n",
    "        p[\"figure.subplot.left\"] = 0.05  # 左边距 \n",
    "        p[\"figure.subplot.right\"] = 0.98   # 右边距\n",
    "        p[\"figure.subplot.bottom\"] = 0.1  # 下边距 \n",
    "        p[\"figure.subplot.top\"] = 0.95   # 上边距\n",
    "        # 配置subplots之间的间距（水平间距和垂直间距），也是基于图标的宽和高的比例\n",
    "        p[\"figure.subplot.wspace\"] = 0.05\n",
    "        p[\"figure.subplot.hspace\"] = 0.05\n",
    "        fig, axes = plt.subplots(nrows=2, ncols=4, sharex='col', sharey='row', figsize=(7.75, 4.25))\n",
    "        fig.delaxes(axes.flat[-1])\n",
    "        for ii, ax in zip(range(Number[0], Number[1]), axes.flat[:-1]):\n",
    "            #画射电灰度图\n",
    "            if vr == None:\n",
    "                ax.imshow(ImageFrame, cmap = 'gray_r', origin = 'lower', extent=extent)\n",
    "            else:\n",
    "                ax.imshow(ImageFrame, cmap = 'gray_r', vmax = vr[1], vmin = vr[0], origin = 'lower', extent=extent)\n",
    "\n",
    "            #画消光contour图\n",
    "            iar = allar.loc[ii]\n",
    "            iar = iar.loc[yii, xii]\n",
    "            araa = gaussian_filter (iar ,0.68)\n",
    "            if fill == False:\n",
    "                cont = ax.contour(xgrid[xii], ygrid[yii], araa, levs[lowlev:-lowlev])\n",
    "            else:\n",
    "                cont = ax.contourf(xgrid[xii], ygrid[yii], araa, levs[lowlev:-lowlev])\n",
    "            tit = r'{0:4.2f}~{1:4.2f}kpc'.format(realdis[ii] - disbins[ii]/2, realdis[ii] + disbins[ii]/2)\n",
    "            ax.text(0.02, 0.99, tit, va='top', ha='left',transform=ax.transAxes, color='red', fontsize=10, zorder=10)\n",
    "\n",
    "            #调整刻度\n",
    "            ax.xaxis.set_major_locator(ticker.MultipleLocator(1))\n",
    "            ax.xaxis.set_minor_locator(ticker.MultipleLocator(0.1))\n",
    "            ax.yaxis.set_major_locator(ticker.MultipleLocator(1))\n",
    "            ax.yaxis.set_minor_locator(ticker.MultipleLocator(0.1))\n",
    "            ax.tick_params(labelsize=9)\n",
    "            \n",
    "        #调整xylabel\n",
    "        fig.text(0.5, 0., 'Galactic Latitude', ha='center', va='bottom', fontsize=14)\n",
    "        fig.text(0., 0.5, 'Galactic Longitude', ha='left', va='center', rotation='vertical', fontsize=14)\n",
    "\n",
    "        print('contour levels:',levs[lowlev:-lowlev],'mag/kpc')\n",
    "        fig.savefig(pjoin('..', '..', 'Data', 'extin3d', 'results', '{0}_all.pdf'.format(name)), transparent = True, dpi=360)\n",
    "    else:\n",
    "        ii = Number[0]+picn\n",
    "        fig = plt.figure(figsize=(4, 4))\n",
    "        ax = fig.add_subplot(111)\n",
    "        if vr == None:\n",
    "            ax.imshow(image_data, cmap = 'gray_r', origin = 'lower', extent=extent)\n",
    "        else:\n",
    "            ax.imshow(image_data, cmap = 'gray_r', vmax = vr[1], vmin = vr[0], origin = 'lower', extent=extent)\n",
    "        iar = allar.loc[ii]\n",
    "        iar = iar.loc[yii, xii]\n",
    "        araa = gaussian_filter (iar ,0.68)\n",
    "        if fill == False:\n",
    "            cont = ax.contour(xgrid[xii], ygrid[yii], araa, levs[lowlev:-lowlev])\n",
    "        else:\n",
    "            cont = ax.contourf(xgrid[xii], ygrid[yii], araa, levs[lowlev:-lowlev])\n",
    "        tit = r'{0:4.2f}~{1:4.2f}kpc'.format(realdis[ii] - disbins[ii]/2, realdis[ii] + disbins[ii]/2)\n",
    "        ax.text(0.02, 0.99, tit, va='top', ha='left',transform=ax.transAxes, color='red', fontsize=12, zorder=10)\n",
    "        \n",
    "        points = readpoints(name, fig, 1)\n",
    "        x = np.zeros(len(points))\n",
    "        y = np.zeros(len(points))\n",
    "        for j in range(len(points)):\n",
    "            x[j], y[j] = points[j]\n",
    "        x = np.append(x,x[0])  # to join the start point and end point on the picture\n",
    "        y = np.append(y,y[0])\n",
    "        ax.plot(x, y, 'r')\n",
    "        #调整刻度\n",
    "        ax.xaxis.set_major_locator(ticker.MultipleLocator(1))\n",
    "        ax.xaxis.set_minor_locator(ticker.MultipleLocator(0.1))\n",
    "        ax.yaxis.set_major_locator(ticker.MultipleLocator(1))\n",
    "        ax.yaxis.set_minor_locator(ticker.MultipleLocator(0.1))\n",
    "        ax.tick_params(labelsize=12)\n",
    "        \n",
    "        #调整xylabel\n",
    "        fig.text(0.5, 0., 'Galactic Latitude', ha='center', va='bottom', fontsize=12)\n",
    "        fig.text(0., 0.5, 'Galactic Longitude', ha='left', va='center', rotation='vertical', fontsize=12)\n",
    "        fig.savefig(pjoin('..', '..', 'Data', 'extin3d', 'results', '{0}_single.pdf'.format(name)), transparent = True, dpi=360)\n",
    "        plt.show()\n",
    "name = 'snr169'\n",
    "perctl = 98\n",
    "perpc=True\n",
    "xr, yr, image_data = readfits(name, ext = 0)\n",
    "xgrid, ygrid, ar, realdis = readsnrsav(name)\n",
    "radio_ar(name, ar, realdis, image_data, xr, yr, xgrid, ygrid, perctl, perpc, False)"
   ]
  },
  {
   "cell_type": "code",
   "execution_count": null,
   "metadata": {
    "collapsed": true
   },
   "outputs": [],
   "source": []
  },
  {
   "cell_type": "code",
   "execution_count": null,
   "metadata": {
    "collapsed": true
   },
   "outputs": [],
   "source": []
  },
  {
   "cell_type": "code",
   "execution_count": null,
   "metadata": {
    "collapsed": true
   },
   "outputs": [],
   "source": []
  },
  {
   "cell_type": "code",
   "execution_count": null,
   "metadata": {
    "collapsed": true
   },
   "outputs": [],
   "source": []
  },
  {
   "cell_type": "code",
   "execution_count": null,
   "metadata": {
    "collapsed": true
   },
   "outputs": [],
   "source": []
  },
  {
   "cell_type": "code",
   "execution_count": null,
   "metadata": {
    "collapsed": true
   },
   "outputs": [],
   "source": [
    "adata = np.vstack(ar.dar)\n",
    "madata = ma.masked_where(adata<0, adata)\n",
    "pdata = DataFrame(madata, index=[np.repeat(np.arange(len(ar.dar)),len(xgrid)), np.tile(ygrid, len(ar.dar))], columns=xgrid)\n",
    "\n",
    "xleft = SNRs.loc[name]['l']+SNRs.loc[name]['size']/60*2.5\n",
    "xright = SNRs.loc[name]['l']-SNRs.loc[name]['size']/60*2.5\n",
    "yup = SNRs.loc[name]['b']+SNRs.loc[name]['size']/60*2.5\n",
    "ydown = SNRs.loc[name]['b']-SNRs.loc[name]['size']/60*2.5\n",
    "\n",
    "xi = (xr<xleft) & (xr>xright) \n",
    "yi = (yr<yup) & (yr>ydown) \n",
    "\n",
    "xii = (xgrid<xleft) & (xgrid>xright) \n",
    "yii = (ygrid<yup) & (ygrid>ydown)\n",
    "\n",
    "allar = DataFrame(madata, index=[np.repeat(np.arange(len(ar.dar)),len(xgrid)), np.tile(ygrid, len(ar.dar))], columns=xgrid)\n",
    "disbins = moddis((dismod(realdis) + 0.25)) - moddis((dismod(realdis) - 0.25))\n",
    "allar.index.names = ['cell','gb']\n",
    "allar.columns.name = 'gl'\n",
    "\n",
    "aaaaaa=[[] for _ in range(len(disbins))]\n",
    "for i in range(len(disbins)):\n",
    "    aaaaaa[i] = allar.loc[i]/disbins[i]\n"
   ]
  }
 ],
 "metadata": {
  "kernelspec": {
   "display_name": "Python 3",
   "language": "python",
   "name": "python3"
  },
  "language_info": {
   "codemirror_mode": {
    "name": "ipython",
    "version": 3
   },
   "file_extension": ".py",
   "mimetype": "text/x-python",
   "name": "python",
   "nbconvert_exporter": "python",
   "pygments_lexer": "ipython3",
   "version": "3.6.1"
  }
 },
 "nbformat": 4,
 "nbformat_minor": 2
}
