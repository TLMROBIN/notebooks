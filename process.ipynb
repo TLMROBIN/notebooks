{
 "cells": [
  {
   "cell_type": "code",
   "execution_count": 1,
   "metadata": {
    "scrolled": false
   },
   "outputs": [
    {
     "name": "stdout",
     "output_type": "stream",
     "text": [
      "D:\\OneDrive - mail.bnu.edu.cn\\work\\data\n"
     ]
    }
   ],
   "source": [
    "cd ../../data/"
   ]
  },
  {
   "cell_type": "code",
   "execution_count": 2,
   "metadata": {},
   "outputs": [],
   "source": [
    "from astropy.io import fits\n",
    "\n",
    "from astropy import units as u\n",
    "from astropy.coordinates import SkyCoord\n",
    "from astropy.table import Table\n",
    "\n",
    "import numpy as np"
   ]
  },
  {
   "cell_type": "markdown",
   "metadata": {},
   "source": [
    "1. 读取fits文件信息\n",
    "2. 制定超新星遗迹范围，并截取\n",
    "3. 保存超新星遗迹数据"
   ]
  },
  {
   "cell_type": "code",
   "execution_count": 3,
   "metadata": {},
   "outputs": [],
   "source": [
    "hdulist = fits.open('catwithdis.fit')"
   ]
  },
  {
   "cell_type": "code",
   "execution_count": 5,
   "metadata": {},
   "outputs": [
    {
     "name": "stdout",
     "output_type": "stream",
     "text": [
      "Filename: catwithdis.fit\n",
      "No.    Name      Ver    Type      Cards   Dimensions   Format\n",
      "  0  PRIMARY       1 PrimaryHDU       4   ()      \n",
      "  1                1 BinTableHDU     63   28271752R x 23C   [D, D, E, E, E, E, E, E, E, E, E, E, E, E, E, E, 19A, E, E, D, D, D, E]   \n"
     ]
    }
   ],
   "source": [
    "hdulist.info()"
   ]
  },
  {
   "cell_type": "code",
   "execution_count": 4,
   "metadata": {},
   "outputs": [
    {
     "data": {
      "text/plain": [
       "ColDefs(\n",
       "    name = 'RA'; format = 'D'\n",
       "    name = 'DEC'; format = 'D'\n",
       "    name = 'J'; format = 'E'\n",
       "    name = 'H'; format = 'E'\n",
       "    name = 'K'; format = 'E'\n",
       "    name = 'EJ'; format = 'E'\n",
       "    name = 'EH'; format = 'E'\n",
       "    name = 'EK'; format = 'E'\n",
       "    name = 'GP'; format = 'E'\n",
       "    name = 'BP'; format = 'E'\n",
       "    name = 'RP'; format = 'E'\n",
       "    name = 'EGP'; format = 'E'\n",
       "    name = 'EBP'; format = 'E'\n",
       "    name = 'ERP'; format = 'E'\n",
       "    name = 'W1'; format = 'E'\n",
       "    name = 'EW1'; format = 'E'\n",
       "    name = 'SSID'; format = '19A'\n",
       "    name = 'PARA'; format = 'E'\n",
       "    name = 'EPARA'; format = 'E'\n",
       "    name = 'REGK'; format = 'D'\n",
       "    name = 'REBR'; format = 'D'\n",
       "    name = 'REHK'; format = 'D'\n",
       "    name = 'DIS'; format = 'E'\n",
       ")"
      ]
     },
     "execution_count": 4,
     "metadata": {},
     "output_type": "execute_result"
    }
   ],
   "source": [
    "cols = hdulist[1].columns\n",
    "cols"
   ]
  },
  {
   "cell_type": "code",
   "execution_count": 5,
   "metadata": {},
   "outputs": [
    {
     "name": "stdout",
     "output_type": "stream",
     "text": [
      "Wall time: 0 ns\n"
     ]
    }
   ],
   "source": [
    "%%time \n",
    "\n",
    "data = hdulist[1].data"
   ]
  },
  {
   "cell_type": "code",
   "execution_count": 6,
   "metadata": {},
   "outputs": [
    {
     "data": {
      "text/plain": [
       "FITS_rec([(74.840139, 26.242048, 12.699, 11.807, 11.565, 0.018, 0.021, 0.018, 15.79435 , 17.155628, 14.638269, 0.00213992, 0.03298068, 0.00830059, 11.359, 0.024, '153696882156882816', 0.4023, 0.0721, 2.05939886, 1.27769975, 0.13008419, 2.2588806 ),\n",
       "          (74.808284, 26.272211, 11.942, 11.26 , 10.998, 0.019, 0.024, 0.018, 14.982522, 15.842951, 13.622395, 0.0030209 , 0.03750518, 0.01162324, 10.809, 0.023, '153697225754268672', 2.9086, 0.1173, 2.0725545 , 0.82196002, 0.1968211 , 0.34125647),\n",
       "          (74.837379, 26.293083, 12.994, 12.354, 12.111, 0.018, 0.023, 0.016, 15.747385, 16.90917 , 14.666429, 0.00216768, 0.02942837, 0.01042682, 11.966, 0.023, '153697298769173248', 1.7082, 0.0625, 2.20073703, 1.36746518, 0.16439033, 0.5765563 ),\n",
       "          ...,\n",
       "          (90.014229, 43.881161, 13.888, 13.213, 12.954, 0.023, 0.024, 0.024, 16.386814, 17.563307, 15.322656, 0.00529872, 0.05787191, 0.01252781, 12.867, 0.025, '961366719119831424', 2.8186, 0.0728, 0.23149309, 0.14247835, 0.06931999, 0.35153922),\n",
       "          (90.016429, 43.873936, 14.186, 13.973, 13.875, 0.025, 0.026, 0.034, 15.310093, 15.643524, 14.803227, 0.00308893, 0.0112951 , 0.01475662, 13.812, 0.027, '961366723417600128', 0.2632, 0.0457, 0.47341303, 0.35140851, 0.05849316, 3.2785225 ),\n",
       "          (90.012236, 43.895092, 13.294, 12.928, 12.847, 0.017, 0.019, 0.021, 14.676191, 15.145515, 14.051394, 0.00256767, 0.01973062, 0.0087711 , 12.785, 0.024, '961366757777336064', 0.456 , 0.0446, 0.38428033, 0.26456856, 0.01829678, 2.0544517 )],\n",
       "         dtype=(numpy.record, [('RA', '>f8'), ('DEC', '>f8'), ('J', '>f4'), ('H', '>f4'), ('K', '>f4'), ('EJ', '>f4'), ('EH', '>f4'), ('EK', '>f4'), ('GP', '>f4'), ('BP', '>f4'), ('RP', '>f4'), ('EGP', '>f4'), ('EBP', '>f4'), ('ERP', '>f4'), ('W1', '>f4'), ('EW1', '>f4'), ('SSID', 'S19'), ('PARA', '>f4'), ('EPARA', '>f4'), ('REGK', '>f8'), ('REBR', '>f8'), ('REHK', '>f8'), ('DIS', '>f4')]))"
      ]
     },
     "execution_count": 6,
     "metadata": {},
     "output_type": "execute_result"
    }
   ],
   "source": [
    "data"
   ]
  },
  {
   "cell_type": "code",
   "execution_count": 17,
   "metadata": {
    "collapsed": true
   },
   "outputs": [
    {
     "data": {
      "text/plain": [
       "XTENSION= 'BINTABLE'           /Binary table written by MWRFITS v1.6a           \n",
       "BITPIX  =                    8 /Required value                                  \n",
       "NAXIS   =                    2 /Required value                                  \n",
       "NAXIS1  =                  127 /Number of bytes per row                         \n",
       "NAXIS2  =             28271752 /Number of rows                                  \n",
       "PCOUNT  =                    0 /Normally 0 (no varying arrays)                  \n",
       "GCOUNT  =                    1 /Required value                                  \n",
       "TFIELDS =                   23 /Number of columns in table                      \n",
       "COMMENT                                                                         \n",
       "COMMENT  *** End of mandatory fields ***                                        \n",
       "COMMENT                                                                         \n",
       "COMMENT                                                                         \n",
       "COMMENT  *** Column names ***                                                   \n",
       "COMMENT                                                                         \n",
       "TTYPE1  = 'RA      '           /                                                \n",
       "TTYPE2  = 'DEC     '           /                                                \n",
       "TTYPE3  = 'J       '           /                                                \n",
       "TTYPE4  = 'H       '           /                                                \n",
       "TTYPE5  = 'K       '           /                                                \n",
       "TTYPE6  = 'EJ      '           /                                                \n",
       "TTYPE7  = 'EH      '           /                                                \n",
       "TTYPE8  = 'EK      '           /                                                \n",
       "TTYPE9  = 'GP      '           /                                                \n",
       "TTYPE10 = 'BP      '           /                                                \n",
       "TTYPE11 = 'RP      '           /                                                \n",
       "TTYPE12 = 'EGP     '           /                                                \n",
       "TTYPE13 = 'EBP     '           /                                                \n",
       "TTYPE14 = 'ERP     '           /                                                \n",
       "TTYPE15 = 'W1      '           /                                                \n",
       "TTYPE16 = 'EW1     '           /                                                \n",
       "TTYPE17 = 'SSID    '           /                                                \n",
       "TTYPE18 = 'PARA    '           /                                                \n",
       "TTYPE19 = 'EPARA   '           /                                                \n",
       "TTYPE20 = 'REGK    '           /                                                \n",
       "TTYPE21 = 'REBR    '           /                                                \n",
       "TTYPE22 = 'REHK    '           /                                                \n",
       "TTYPE23 = 'DIS     '           /                                                \n",
       "COMMENT                                                                         \n",
       "COMMENT  *** Column formats ***                                                 \n",
       "COMMENT                                                                         \n",
       "TFORM1  = 'D       '           /                                                \n",
       "TFORM2  = 'D       '           /                                                \n",
       "TFORM3  = 'E       '           /                                                \n",
       "TFORM4  = 'E       '           /                                                \n",
       "TFORM5  = 'E       '           /                                                \n",
       "TFORM6  = 'E       '           /                                                \n",
       "TFORM7  = 'E       '           /                                                \n",
       "TFORM8  = 'E       '           /                                                \n",
       "TFORM9  = 'E       '           /                                                \n",
       "TFORM10 = 'E       '           /                                                \n",
       "TFORM11 = 'E       '           /                                                \n",
       "TFORM12 = 'E       '           /                                                \n",
       "TFORM13 = 'E       '           /                                                \n",
       "TFORM14 = 'E       '           /                                                \n",
       "TFORM15 = 'E       '           /                                                \n",
       "TFORM16 = 'E       '           /                                                \n",
       "TFORM17 = '19A     '           /                                                \n",
       "TFORM18 = 'E       '           /                                                \n",
       "TFORM19 = 'E       '           /                                                \n",
       "TFORM20 = 'D       '           /                                                \n",
       "TFORM21 = 'D       '           /                                                \n",
       "TFORM22 = 'D       '           /                                                \n",
       "TFORM23 = 'E       '           /                                                "
      ]
     },
     "execution_count": 17,
     "metadata": {},
     "output_type": "execute_result"
    }
   ],
   "source": [
    "header = fits.getheader('catwithdis.fit',1)\n",
    "header"
   ]
  },
  {
   "cell_type": "code",
   "execution_count": 18,
   "metadata": {
    "collapsed": true
   },
   "outputs": [
    {
     "data": {
      "text/plain": [
       "SIMPLE  =                    T /Dummy Created by MWRFITS v1.6a                  \n",
       "BITPIX  =                    8 /Dummy primary header created by MWRFITS         \n",
       "NAXIS   =                    0 /No data is associated with this header          \n",
       "EXTEND  =                    T /Extensions may (will!) be present               "
      ]
     },
     "execution_count": 18,
     "metadata": {},
     "output_type": "execute_result"
    }
   ],
   "source": [
    "header = fits.getheader('catwithdis.fit',0)\n",
    "header"
   ]
  },
  {
   "cell_type": "code",
   "execution_count": null,
   "metadata": {},
   "outputs": [],
   "source": [
    "# hdulist.close()"
   ]
  },
  {
   "cell_type": "code",
   "execution_count": 5,
   "metadata": {},
   "outputs": [],
   "source": [
    "data=fits.getdata('catwithdis.fit')"
   ]
  },
  {
   "cell_type": "code",
   "execution_count": 7,
   "metadata": {},
   "outputs": [
    {
     "name": "stdout",
     "output_type": "stream",
     "text": [
      "Wall time: 19.4 s\n"
     ]
    }
   ],
   "source": [
    "%%time\n",
    "\n",
    "c = SkyCoord(data['ra'] * u.deg, data['dec'] * u.deg, frame='icrs')"
   ]
  },
  {
   "cell_type": "code",
   "execution_count": 14,
   "metadata": {},
   "outputs": [
    {
     "name": "stdout",
     "output_type": "stream",
     "text": [
      "Wall time: 23.2 s\n"
     ]
    }
   ],
   "source": [
    "%%time\n",
    "\n",
    "l = c.galactic.l.degree\n",
    "b = c.galactic.b.degree"
   ]
  },
  {
   "cell_type": "code",
   "execution_count": null,
   "metadata": {},
   "outputs": [],
   "source": [
    "col_l = fits.Column(name='l', format='D', array=l)\n",
    "col_b = fits.Column(name='b', format='D', array=b)\n",
    "new_cols = fits.ColDefs([col_l, col_b])\n",
    "orig_cols = data.columns\n",
    "hdu = fits.BinTableHDU.from_columns(orig_cols + new_cols)\n",
    "hdu.writeto('newtable.fits')"
   ]
  }
 ],
 "metadata": {
  "kernelspec": {
   "display_name": "Python 3",
   "language": "python",
   "name": "python3"
  },
  "language_info": {
   "codemirror_mode": {
    "name": "ipython",
    "version": 3
   },
   "file_extension": ".py",
   "mimetype": "text/x-python",
   "name": "python",
   "nbconvert_exporter": "python",
   "pygments_lexer": "ipython3",
   "version": "3.6.4"
  }
 },
 "nbformat": 4,
 "nbformat_minor": 2
}
