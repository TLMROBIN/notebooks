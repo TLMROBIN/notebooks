{
 "cells": [
  {
   "cell_type": "code",
   "execution_count": 67,
   "metadata": {},
   "outputs": [
    {
     "name": "stdout",
     "output_type": "stream",
     "text": [
      "e:\\BNUCloud\\work\\git\\Scripts\\snr14\n"
     ]
    }
   ],
   "source": [
    "cd e:/BNUCloud/work/git/Scripts/snr14/"
   ]
  },
  {
   "cell_type": "code",
   "execution_count": 2,
   "metadata": {
    "collapsed": true
   },
   "outputs": [],
   "source": [
    "from dis_ext import *\n",
    "\n",
    "import _pickle"
   ]
  },
  {
   "cell_type": "code",
   "execution_count": 48,
   "metadata": {
    "collapsed": true
   },
   "outputs": [],
   "source": [
    "#读取遗迹原始数据\n",
    "name = 'snr169'\n",
    "stardata = readsav(pjoin('..', '..', 'Data', 'extin3d', 'discalib', 'result', '{0}.sav'.format(name)), python_dict = True)\n",
    "\n",
    "stardata = stardata['res']"
   ]
  },
  {
   "cell_type": "code",
   "execution_count": 51,
   "metadata": {
    "collapsed": true
   },
   "outputs": [],
   "source": [
    "#读取遗迹3d数据\n",
    "data_file = pjoin('..', '..', 'Data', 'extin3d', '{0}extin3d015.sav'.format(name))\n",
    "res=readsav(data_file, python_dict=True)\n",
    "res=res['exta']\n",
    "\n",
    "ar=res.dar[0].dar\n",
    "allar = np.reshape(np.vstack(ar), (len(ar), ar[0].shape[0], ar[0].shape[1]))\n",
    "\n",
    "allar = np.ma.masked_where(allar<-999,allar)"
   ]
  },
  {
   "cell_type": "code",
   "execution_count": 108,
   "metadata": {
    "collapsed": true
   },
   "outputs": [],
   "source": [
    "#距离模数bin\n",
    "dismo=res.dis[0]#distant modulu"
   ]
  },
  {
   "cell_type": "code",
   "execution_count": 56,
   "metadata": {
    "collapsed": true
   },
   "outputs": [],
   "source": [
    "#构造网格坐标\n",
    "ll, bb = np.meshgrid(res.gl[0], res.gb[0])\n",
    "\n",
    "lbpairs = np.vstack([ll.reshape(-1), bb.reshape(-1) ]).T"
   ]
  },
  {
   "cell_type": "code",
   "execution_count": 71,
   "metadata": {
    "collapsed": true,
    "scrolled": true
   },
   "outputs": [],
   "source": [
    "#读取圈画范围的边界\n",
    "pointsfile_path = pjoin('..', '..', 'Data', 'extin3d', 'results', '{0}_points.pkl'.format(name))\n",
    "pointsfile = open(pointsfile_path, 'rb')#if there is a file, load it\n",
    "points = _pickle.load(pointsfile)\n",
    "pointsfile.close()\n",
    "p = path.Path(points)"
   ]
  },
  {
   "cell_type": "code",
   "execution_count": 72,
   "metadata": {
    "collapsed": true
   },
   "outputs": [],
   "source": [
    "#边界内网格的的索引\n",
    "index=p.contains_points(lbpairs)\n",
    "\n",
    "rowix = index.reshape(ll.shape).nonzero()[0]\n",
    "colix = index.reshape(ll.shape).nonzero()[1]"
   ]
  },
  {
   "cell_type": "code",
   "execution_count": 148,
   "metadata": {
    "collapsed": true
   },
   "outputs": [],
   "source": [
    "#边界内的网格中的消光数据\n",
    "extinction = allar[:,rowix, colix ]"
   ]
  },
  {
   "cell_type": "code",
   "execution_count": 151,
   "metadata": {
    "collapsed": true
   },
   "outputs": [],
   "source": [
    "#单位距离内的消光\n",
    "mbin = dismo[1] - dismo[0]\n",
    "dbin = moddis(dismo + mbin/2.) - moddis(dismo - mbin/2.)\n",
    "\n",
    "extinctionpc = extinction/dbin[:,None]"
   ]
  },
  {
   "cell_type": "code",
   "execution_count": 179,
   "metadata": {
    "collapsed": true
   },
   "outputs": [],
   "source": [
    "from matplotlib.ticker import MultipleLocator, FormatStrFormatter  "
   ]
  },
  {
   "cell_type": "code",
   "execution_count": 192,
   "metadata": {
    "scrolled": false
   },
   "outputs": [
    {
     "data": {
      "image/png": "[encoded data removed]",
      "text/plain": [
       "<matplotlib.figure.Figure at 0x1b0839f80f0>"
      ]
     },
     "metadata": {},
     "output_type": "display_data"
    }
   ],
   "source": [
    "fig= plt.figure(figsize=(12,8))\n",
    "ax=fig.add_subplot(111)\n",
    "extent=[0,18,5.25,12.75]\n",
    "myplot=ax.imshow(extinctionpc,origin = 'lower',interpolation='none',extent=extent)\n",
    "fig.colorbar(myplot)\n",
    "\n",
    "\n",
    "plt.show()"
   ]
  },
  {
   "cell_type": "code",
   "execution_count": 195,
   "metadata": {},
   "outputs": [
    {
     "data": {
      "text/plain": [
       "1.412537544622754"
      ]
     },
     "execution_count": 195,
     "metadata": {},
     "output_type": "execute_result"
    }
   ],
   "source": [
    "moddis(10.75)"
   ]
  },
  {
   "cell_type": "code",
   "execution_count": 137,
   "metadata": {},
   "outputs": [
    {
     "data": {
      "text/plain": [
       "1.1443800926208496"
      ]
     },
     "execution_count": 137,
     "metadata": {},
     "output_type": "execute_result"
    }
   ],
   "source": [
    "np.percentile(allar[:,rowix, colix],100)"
   ]
  }
 ],
 "metadata": {
  "kernelspec": {
   "display_name": "Python 3",
   "language": "python",
   "name": "python3"
  },
  "language_info": {
   "codemirror_mode": {
    "name": "ipython",
    "version": 3
   },
   "file_extension": ".py",
   "mimetype": "text/x-python",
   "name": "python",
   "nbconvert_exporter": "python",
   "pygments_lexer": "ipython3",
   "version": "3.6.1"
  }
 },
 "nbformat": 4,
 "nbformat_minor": 2
}
