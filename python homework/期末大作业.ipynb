{
 "cells": [
  {
   "cell_type": "markdown",
   "metadata": {},
   "source": [
    "<h1 align = \"center\">北京师范大学2017～2018学年第二学期期末考试试卷</h1>\n",
    "<h1 align = \"center\">（研究生）</h1>"
   ]
  },
  {
   "cell_type": "markdown",
   "metadata": {},
   "source": [
    "__课程名称：__<u> Python编程之美 </u>   &nbsp;&emsp;&emsp;&emsp; __任课教师姓名：__<u> 邓擎琼、徐鹏飞 </u>"
   ]
  },
  {
   "cell_type": "markdown",
   "metadata": {},
   "source": [
    "__卷面总分：__<u> 50 </u>   &nbsp;&emsp;&emsp;&emsp; __考试时长：__<u> 100 </u> &nbsp;&emsp;&emsp;&emsp; __考试类别：__<u> 其他 </u>"
   ]
  },
  {
   "cell_type": "markdown",
   "metadata": {},
   "source": [
    "__培养单位：__<u> *********** </u>   &nbsp;&emsp;&emsp;&emsp; __学  科：__<u> ************* </u> &nbsp;&emsp;&emsp;&emsp; __年级：__<u> ************* </u>"
   ]
  },
  {
   "cell_type": "markdown",
   "metadata": {},
   "source": [
    "__姓 名：__<u> ********** </u>   &nbsp;&emsp;&emsp;&emsp; __学 号：__<u> ************ </u>"
   ]
  },
  {
   "cell_type": "markdown",
   "metadata": {},
   "source": [
    "| 题号    |   第一题      |     第二题  |     第三题  |     第四题  |     总分  |\n",
    "|:--------|:---------:|:---------:|:---------:|:---------:|---------:|\n",
    "| 得分    |             |             |           |            |            |\n"
   ]
  },
  {
   "cell_type": "markdown",
   "metadata": {},
   "source": [
    "__阅卷教师（签字）：__<u> &emsp;&emsp;&emsp;&emsp;&emsp;&emsp;&emsp;&emsp;&emsp; &emsp;&emsp;&emsp;&emsp;</u>"
   ]
  },
  {
   "cell_type": "markdown",
   "metadata": {},
   "source": [
    "---"
   ]
  },
  {
   "cell_type": "markdown",
   "metadata": {
    "collapsed": true
   },
   "source": [
    "## 题目："
   ]
  },
  {
   "attachments": {},
   "cell_type": "markdown",
   "metadata": {},
   "source": [
    "1. 读入智联招聘关于软件/互联网开发/系统集成方面的招聘数据（ zlzp_position.csv ）； <font color='red'>分值：5</font>\n",
    "&emsp;&emsp;或者：爬取https://sou.zhaopin.com/jobs/searchresult.ashx?bj=160000&jl=北京&p=1 网页上的招聘信息，每条信息包含以下字段：公司名称、公司规模、公司性质、月薪（若为区间值，则取该区间的均值，月薪为“面议”的样本将其舍去）、工作经验、招聘人数、最低学历、工作性质、是否有五险一金\\带薪休假\\员工旅游\\周末双休\\弹性工作\\餐补\\交通补助\\年底双薪\\股票期权，并保存为csv文件； <font color='red'>分值：15</font>\n",
    "2. 把五险一金\\带薪休假\\员工旅游\\周末双休\\弹性工作\\餐补\\交通补助\\年底双薪\\股票期权看作公司福利，请对各种类型（性质）公司提供的福利多少分别进行降序排序，并打印输出；   <font color='red'>分值：5</font>\n",
    "3. 对不同最低学历要求的月薪分布绘制直方图，对其均值绘制柱状图；对不同最低学历要求的招聘人数绘制饼图；    <font color='red'>分值：10</font>\n",
    "4. 以月薪为因变量，以其他特征为自变量（特征自选），建立特征对月薪的预测模型。要求至少选择两种机器学习算法，从中选择较优的算法并确定最优超参数（如果算法有超参数） 。  <font color='red'>分值：20</font>"
   ]
  },
  {
   "cell_type": "markdown",
   "metadata": {
    "collapsed": true
   },
   "source": [
    "## 承诺：\n",
    "\n",
    "这里写上你的不抄袭承诺！"
   ]
  },
  {
   "cell_type": "code",
   "execution_count": null,
   "metadata": {
    "collapsed": true
   },
   "outputs": [],
   "source": []
  }
 ],
 "metadata": {
  "kernelspec": {
   "display_name": "Python 3",
   "language": "python",
   "name": "python3"
  },
  "language_info": {
   "codemirror_mode": {
    "name": "ipython",
    "version": 3
   },
   "file_extension": ".py",
   "mimetype": "text/x-python",
   "name": "python",
   "nbconvert_exporter": "python",
   "pygments_lexer": "ipython3",
   "version": "3.6.1"
  }
 },
 "nbformat": 4,
 "nbformat_minor": 2
}
